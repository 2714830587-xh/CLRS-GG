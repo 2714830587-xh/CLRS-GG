{
  "nbformat": 4,
  "nbformat_minor": 0,
  "metadata": {
    "colab": {
      "name": "chpter5.ipynb",
      "provenance": [],
      "authorship_tag": "ABX9TyOJ5Vqj9qeCi1XhoXoW2NOP",
      "include_colab_link": true
    },
    "kernelspec": {
      "name": "python3",
      "display_name": "Python 3"
    },
    "language_info": {
      "name": "python"
    }
  },
  "cells": [
    {
      "cell_type": "markdown",
      "metadata": {
        "id": "view-in-github",
        "colab_type": "text"
      },
      "source": [
        "<a href=\"https://colab.research.google.com/github/2714830587-xh/CLRS-GG/blob/master/chpter5.ipynb\" target=\"_parent\"><img src=\"https://colab.research.google.com/assets/colab-badge.svg\" alt=\"Open In Colab\"/></a>"
      ]
    },
    {
      "cell_type": "markdown",
      "source": [
        "一个块可以由许多层组成；一个块可以由许多块组成。\n",
        "\n",
        "块可以包含代码。\n",
        "\n",
        "块负责大量的内部处理，包括参数初始化和反向传播。\n",
        "\n",
        "层和块的顺序连接由Sequential块处理。"
      ],
      "metadata": {
        "id": "aiuit_AwSduA"
      }
    },
    {
      "cell_type": "code",
      "execution_count": 82,
      "metadata": {
        "colab": {
          "base_uri": "https://localhost:8080/"
        },
        "id": "-pTz1P-1GqtA",
        "outputId": "16f53231-9143-4387-c56a-09f122e9aff6"
      },
      "outputs": [
        {
          "output_type": "stream",
          "name": "stdout",
          "text": [
            "Sequential(\n",
            "  (0): NestMLP(\n",
            "    (net): Sequential(\n",
            "      (0): Linear(in_features=20, out_features=64, bias=True)\n",
            "      (1): ReLU()\n",
            "      (2): Linear(in_features=64, out_features=32, bias=True)\n",
            "      (3): ReLU()\n",
            "    )\n",
            "    (linear): Linear(in_features=32, out_features=16, bias=True)\n",
            "  )\n",
            "  (1): Linear(in_features=16, out_features=20, bias=True)\n",
            "  (2): MySequential()\n",
            ")\n"
          ]
        },
        {
          "output_type": "execute_result",
          "data": {
            "text/plain": [
              "torch.Size([20, 20])"
            ]
          },
          "metadata": {},
          "execution_count": 82
        }
      ],
      "source": [
        "import torch\n",
        "import torch.nn as nn\n",
        "import torch.nn.functional as F\n",
        "\n",
        "net=nn.Sequential(nn.Linear(20,10),nn.ReLU(),nn.Linear(10,5))\n",
        "x=torch.rand(5,20)\n",
        "net(x)\n",
        "\n",
        "\n",
        "# simailar\n",
        "class MLP(nn.Module):\n",
        "  def __init__(self):\n",
        "      super(MLP,self).__init__()\n",
        "      self.lin1=nn.Linear(20,10)\n",
        "      self.lin2=nn.Linear(10,5)\n",
        "  def forward(self,x):\n",
        "    x=F.relu(self.lin1(x))\n",
        "    x=self.lin2(x)\n",
        "    return x\n",
        "net1=MLP()\n",
        "net(x)\n",
        "\n",
        "\n",
        "\n",
        "# 仔细地看看Sequential类是如何工作\n",
        "class MySequential(nn.Module):\n",
        "  def __init__(self,*args):\n",
        "      super(MySequential,self).__init__()\n",
        "      for idx,module in enumerate(args):\n",
        "        self._modules[str(idx)]=module\n",
        "  def forward(self,x):\n",
        "    for block in self._modules.values():\n",
        "      x=block(x)\n",
        "    return x\n",
        "net2=MySequential(nn.Linear(20,10),nn.ReLU(),nn.Linear(10,5))\n",
        "net2(x)\n",
        "\n",
        "# 固定参数\n",
        "class FixedHideenLayer(nn.Module):\n",
        "  def __init__(self):\n",
        "      super(FixedHideenLayer,self).__init__()\n",
        "      self.weight=torch.randn((20,20),requires_grad=False)\n",
        "      self.lin1=nn.Linear(10,20)\n",
        "      self.lin2=nn.Linear(20,10)\n",
        "  def forward(self,x):\n",
        "    # print(x.shape)\n",
        "    x=F.relu(torch.mm(x,self.weight)+1)\n",
        "    # print(x.shape)\n",
        "    return x\n",
        "net4=FixedHideenLayer()\n",
        "x1=torch.randn(20,20)\n",
        "net4(x1).shape\n",
        "\n",
        "\n",
        "class NestMLP(nn.Module):\n",
        "    def __init__(self):\n",
        "        super().__init__()\n",
        "        self.net = nn.Sequential(nn.Linear(20, 64), nn.ReLU(),\n",
        "                                 nn.Linear(64, 32), nn.ReLU())\n",
        "        self.linear = nn.Linear(32, 16)\n",
        "\n",
        "    def forward(self, X):\n",
        "        return self.linear(self.net(X))\n",
        "\n",
        "chimera = nn.Sequential(NestMLP(), nn.Linear(16, 20), MySequential())\n",
        "X=torch.randn(20,20)\n",
        "print(chimera)\n",
        "chimera(X).shape\n"
      ]
    },
    {
      "cell_type": "code",
      "source": [
        "# class MySequential(nn.Module):\n",
        "#   def init(self, *args):\n",
        "#     super().init()\n",
        "#     self.sequential = []\n",
        "#     for bk in args:\n",
        "#         self.sequential.append(bk)\n",
        "\n",
        "#   def forward(self, X):\n",
        "#     for i in range(len(self.sequential)):\n",
        "#         X = self.sequential[i](X)\n",
        "#     return X\n",
        "# class MySequential2(nn.Module):\n",
        "#   def init(self, *args):\n",
        "#     super().init()\n",
        "#     # self.sequential = []\n",
        "#     for bk in args:\n",
        "#       self._modules[bk] = bk\n",
        "\n",
        "#   def forward(self, X):\n",
        "#         for bk in self._modules.values():\n",
        "#             X = bk(X)\n",
        "#         return X\n",
        "\n",
        "\n",
        "# X = torch.randn(2, 20)\n",
        "# # print(net(X))\n",
        "# # net = MySequential(nn.Linear(20, 256), nn.ReLU(), nn.Linear(256, 10))\n",
        "# net2 = MySequential2(nn.Linear(20, 256), nn.ReLU(), nn.Linear(256, 10))\n",
        "# print(net(X).shape)\n",
        "# # print(net2(X).shape)"
      ],
      "metadata": {
        "id": "vzkS1loGSdMs"
      },
      "execution_count": 29,
      "outputs": []
    },
    {
      "cell_type": "markdown",
      "source": [
        "## 参数管理\n",
        "\n",
        "\n",
        "当参数绑定时，梯度会发生什么情况？ 答案是由于模型参数包含梯度，因此在反向传播期间第二个隐藏层 （即第三个神经网络层）和第三个隐藏层（即第五个神经网络层）的梯度会加在一起。"
      ],
      "metadata": {
        "id": "hxY6hWX0d-49"
      }
    },
    {
      "cell_type": "code",
      "source": [
        "import torch\n",
        "import torch.nn as nn\n",
        "\n",
        "\n",
        "net=nn.Sequential(nn.Linear(4,8),nn.ReLU(),nn.Linear(8,1))\n",
        "x=torch.randn(size=(15,4))\n",
        "net(x).shape\n",
        "\n",
        "print(net[2].state_dict())\n",
        "print(type(net[2].bias))\n",
        "print(net[2].bias)\n",
        "print(net[2].bias.data)\n",
        "net[2].weight.grad == None\n",
        "#因为还没有调用反向传播\n",
        "\n",
        "\n",
        "\n",
        "print([(name,param.shape) for name,param in net[0].named_parameters()])\n",
        "print(\"test\")\n",
        "print(*[(name,param.shape) for name,param in net.named_parameters()])\n",
        "#print（*）里面的*号是干嘛的->把序列展开成多个变量\n",
        "\n",
        "\n",
        "def block1():\n",
        "  return nn.Sequential(nn.Linear(4,8),nn.ReLU(),nn.Linear(8,4),nn.ReLU())\n",
        "def block2():\n",
        "  net=nn.Sequential()\n",
        "  for i in range(4):\n",
        "    net.add_module(f'block{i}',block1())\n",
        "  return net\n",
        "rgnet=nn.Sequential(block2(),nn.Linear(4,1))\n",
        "\n",
        "print(\"rgnet\",rgnet)\n",
        "rgnet(x).shape\n",
        "\n",
        "\n",
        "\n",
        "# 下面，我们访问第一个主要的块中、第二个子块的第一层的偏置项。\n",
        "rgnet[0][1][0].bias.data\n",
        "\n",
        "\n",
        "\n",
        "def init_normal(m):\n",
        "  if type(m)==nn.Linear:\n",
        "    nn.init.normal_(m.weight,mean=0,std=1)\n",
        "    nn.init.zeros_(m.bias)\n",
        "net.apply(init_normal)\n",
        "# net[0].weight.data[0], net[0].bias.data[0]\n",
        "\n",
        "# 给定常量初始化\n",
        "def init_constant(m):\n",
        "  if type(m)==nn.Linear:\n",
        "    nn.init.constant_(m.weight,1)\n",
        "    nn.init.zeros_(m.bias)\n",
        "net.apply(init_constant)\n",
        "net[0].weight.data[0], net[0].bias.data[0]\n",
        "\n",
        "\n",
        "\n",
        "# xavier初始化\n",
        "def xavier(m):\n",
        "  if type(m)==nn.Linear:\n",
        "    nn.init.xavier_uniform_(m.weight)\n",
        "def init_42(m):\n",
        "  if type(m)==nn.Linear:\n",
        "    nn.init.constant_(m.weight,42)\n",
        "net[0].apply(xavier)\n",
        "net[2].apply(init_42)\n",
        "print(net[0].weight.data[0])\n",
        "print(net[2].weight.data)\n",
        "\n",
        "\n",
        "def my_init(m):\n",
        "  if type(m)==nn.Linear:\n",
        "    print(\n",
        "        \"Init\",\n",
        "        *[(name,param.shape)for name,param in m.named_parameters()][0])\n",
        "    nn.init.uniform_(m.weight,-10,10)\n",
        "    m.weight.data*=m.weight.data.abs()>=10\n",
        "print(\"my_init\")\n",
        "net.apply(my_init)\n",
        "print(net[0].weight[:2])\n",
        "\n",
        "# 直接设置参数\n",
        "net[0].weight.data[:]+=1\n",
        "net[0].weight.data[0,0]=42\n",
        "net[0].weight.data[0]\n",
        "\n",
        "\n",
        "\n",
        "\n",
        "#参数共享\n",
        "shared=nn.Linear(8,8)\n",
        "net=nn.Sequential(nn.Linear(4,8),nn.ReLU(),shared,nn.ReLU(),shared,nn.ReLU(),nn.Linear(8,1))\n",
        "net(x)\n",
        "print(net[2].weight.data[0]==net[4].weight.data[0])\n",
        "net[2].weight.data[0,0]=100\n",
        "print(net[2].weight.data[0]==net[4].weight.data[0])"
      ],
      "metadata": {
        "colab": {
          "base_uri": "https://localhost:8080/"
        },
        "id": "sb4B5rPueEve",
        "outputId": "bb82b396-c8d2-4252-abdd-329530862f73"
      },
      "execution_count": 76,
      "outputs": [
        {
          "output_type": "stream",
          "name": "stdout",
          "text": [
            "OrderedDict([('weight', tensor([[-0.0430,  0.2126,  0.2047, -0.0056, -0.0493,  0.1596,  0.0286,  0.0944]])), ('bias', tensor([0.2081]))])\n",
            "<class 'torch.nn.parameter.Parameter'>\n",
            "Parameter containing:\n",
            "tensor([0.2081], requires_grad=True)\n",
            "tensor([0.2081])\n",
            "[('weight', torch.Size([8, 4])), ('bias', torch.Size([8]))]\n",
            "test\n",
            "('0.weight', torch.Size([8, 4])) ('0.bias', torch.Size([8])) ('2.weight', torch.Size([1, 8])) ('2.bias', torch.Size([1]))\n",
            "rgnet Sequential(\n",
            "  (0): Sequential(\n",
            "    (block0): Sequential(\n",
            "      (0): Linear(in_features=4, out_features=8, bias=True)\n",
            "      (1): ReLU()\n",
            "      (2): Linear(in_features=8, out_features=4, bias=True)\n",
            "      (3): ReLU()\n",
            "    )\n",
            "    (block1): Sequential(\n",
            "      (0): Linear(in_features=4, out_features=8, bias=True)\n",
            "      (1): ReLU()\n",
            "      (2): Linear(in_features=8, out_features=4, bias=True)\n",
            "      (3): ReLU()\n",
            "    )\n",
            "    (block2): Sequential(\n",
            "      (0): Linear(in_features=4, out_features=8, bias=True)\n",
            "      (1): ReLU()\n",
            "      (2): Linear(in_features=8, out_features=4, bias=True)\n",
            "      (3): ReLU()\n",
            "    )\n",
            "    (block3): Sequential(\n",
            "      (0): Linear(in_features=4, out_features=8, bias=True)\n",
            "      (1): ReLU()\n",
            "      (2): Linear(in_features=8, out_features=4, bias=True)\n",
            "      (3): ReLU()\n",
            "    )\n",
            "  )\n",
            "  (1): Linear(in_features=4, out_features=1, bias=True)\n",
            ")\n",
            "tensor([-0.4941, -0.5965, -0.1614,  0.2377])\n",
            "tensor([[42., 42., 42., 42., 42., 42., 42., 42.]])\n",
            "my_init\n",
            "Init weight torch.Size([8, 4])\n",
            "Init weight torch.Size([1, 8])\n",
            "tensor([[-0., 0., -0., 0.],\n",
            "        [0., -0., -0., 0.]], grad_fn=<SliceBackward0>)\n",
            "tensor([True, True, True, True, True, True, True, True])\n",
            "tensor([True, True, True, True, True, True, True, True])\n"
          ]
        }
      ]
    },
    {
      "cell_type": "markdown",
      "source": [
        "## 自定义层-类似与线性层\n"
      ],
      "metadata": {
        "id": "VrkQQ6sLgcIm"
      }
    },
    {
      "cell_type": "code",
      "source": [
        "import torch\n",
        "import torch.nn as nn\n",
        "import torch.nn.functional as F\n",
        "\n",
        "class CenteredLayer(nn.Module):\n",
        "  def __init__(self):\n",
        "      super(CenteredLayer,self).__init__()\n",
        "  def forward(self,x):\n",
        "    return x-x.mean()\n",
        "layer=CenteredLayer()\n",
        "print(layer(torch.FloatTensor([1,2,3,4,5])))\n",
        "net = nn.Sequential(nn.Linear(8, 128), CenteredLayer())\n",
        "# 作为额外的健全性检查，我们可以在向该网络发送随机数据后，检查均值是否为0。\n",
        "Y = net(torch.rand(4, 8))\n",
        "Y.mean()\n",
        "\n",
        "# 定义带参数的层\n",
        "class MyLinear(nn.Module):\n",
        "  def __init__(self,in_unit,unit):\n",
        "      super(MyLinear,self).__init__()\n",
        "      self.weight=nn.Parameter(torch.randn(in_unit,unit))\n",
        "      self.bias=nn.Parameter(torch.randn(unit,))\n",
        "  def forward(self,x):\n",
        "    x=F.relu(torch.mm(x,self.weight)+self.bias)\n",
        "    return x\n",
        "\n",
        "linear = MyLinear(5, 3)\n",
        "linear.weight\n",
        "linear(torch.rand(2, 5))\n",
        "net = nn.Sequential(MyLinear(64, 8), MyLinear(8, 1))\n",
        "net(torch.rand(2, 64))"
      ],
      "metadata": {
        "colab": {
          "base_uri": "https://localhost:8080/"
        },
        "id": "EAVQJmKlgbzV",
        "outputId": "82b482ed-02cb-40fd-dd1a-a2bc7a8a63e9"
      },
      "execution_count": 92,
      "outputs": [
        {
          "output_type": "stream",
          "name": "stdout",
          "text": [
            "tensor([-2., -1.,  0.,  1.,  2.])\n"
          ]
        },
        {
          "output_type": "execute_result",
          "data": {
            "text/plain": [
              "tensor([[0.],\n",
              "        [0.]], grad_fn=<ReluBackward0>)"
            ]
          },
          "metadata": {},
          "execution_count": 92
        }
      ]
    },
    {
      "cell_type": "markdown",
      "source": [
        "## 读写文件-加载和保存模型参数\n",
        "\n",
        "save和load函数可用于张量对象的文件读写。\n",
        "\n",
        "我们可以通过参数字典保存和加载网络的全部参数。\n",
        "\n",
        "保存架构必须在代码中完成，而不是在参数中完成。"
      ],
      "metadata": {
        "id": "laL1hcbkmsfY"
      }
    },
    {
      "cell_type": "code",
      "source": [
        "import torch\n",
        "import torch.nn as nn\n",
        "import torch.nn.functional as F\n",
        "\n",
        "x=torch.arange(4)\n",
        "torch.save(x,\"x_file\")\n",
        "x2=torch.load(\"x_file\")\n",
        "x2\n",
        "# 存储一个张量列表，然后把它们读回内存。\n",
        "y=torch.zeros(4)\n",
        "torch.save([x,y],\"x_file\")\n",
        "x2,y2=torch.load(\"x_file\")\n",
        "(x2,y2)\n",
        "\n",
        "\n",
        "# 我们甚至可以写入或读取从字符串映射到张量的字典 \n",
        "# 当我们要读取或写入模型中的所有权重时，这很方便。\n",
        "mydict={\"x\":x,\"y\":y}\n",
        "torch.save(mydict,\"my_dict\")\n",
        "mydict2=torch.load(\"my_dict\")\n",
        "mydict2\n",
        "\n",
        "\n",
        "\n",
        "\n",
        "class MLP(nn.Module):\n",
        "  def __init__(self):\n",
        "      super(MLP,self).__init__()\n",
        "      self.lin1=nn.Linear(20,256)\n",
        "      self.lin2=nn.Linear(256,10)\n",
        "  def forward(self,x):\n",
        "    return self.lin2(F.relu(self.lin1(x)))\n",
        "    \n",
        "net =MLP()\n",
        "x=torch.randn(20,20)\n",
        "net(x).shape\n",
        "y=net(x)\n",
        "torch.save(net.state_dict(), 'mlp.params')\n",
        "\n",
        "\n",
        "\n",
        "# 为了恢复模型，我们实例化了原始多层感知机模型的一个备份\n",
        "clone=MLP()\n",
        "clone.load_state_dict(torch.load(\"mlp.params\"))\n",
        "clone.eval()\n",
        "\n",
        "y_clone=clone(x)\n",
        "y_clone==y"
      ],
      "metadata": {
        "colab": {
          "base_uri": "https://localhost:8080/"
        },
        "id": "qVzOzHK0mpwL",
        "outputId": "91f9ebe4-58d7-458f-b17a-0001bcbf5c13"
      },
      "execution_count": 108,
      "outputs": [
        {
          "output_type": "execute_result",
          "data": {
            "text/plain": [
              "tensor([[True, True, True, True, True, True, True, True, True, True],\n",
              "        [True, True, True, True, True, True, True, True, True, True],\n",
              "        [True, True, True, True, True, True, True, True, True, True],\n",
              "        [True, True, True, True, True, True, True, True, True, True],\n",
              "        [True, True, True, True, True, True, True, True, True, True],\n",
              "        [True, True, True, True, True, True, True, True, True, True],\n",
              "        [True, True, True, True, True, True, True, True, True, True],\n",
              "        [True, True, True, True, True, True, True, True, True, True],\n",
              "        [True, True, True, True, True, True, True, True, True, True],\n",
              "        [True, True, True, True, True, True, True, True, True, True],\n",
              "        [True, True, True, True, True, True, True, True, True, True],\n",
              "        [True, True, True, True, True, True, True, True, True, True],\n",
              "        [True, True, True, True, True, True, True, True, True, True],\n",
              "        [True, True, True, True, True, True, True, True, True, True],\n",
              "        [True, True, True, True, True, True, True, True, True, True],\n",
              "        [True, True, True, True, True, True, True, True, True, True],\n",
              "        [True, True, True, True, True, True, True, True, True, True],\n",
              "        [True, True, True, True, True, True, True, True, True, True],\n",
              "        [True, True, True, True, True, True, True, True, True, True],\n",
              "        [True, True, True, True, True, True, True, True, True, True]])"
            ]
          },
          "metadata": {},
          "execution_count": 108
        }
      ]
    }
  ]
}