{
  "nbformat": 4,
  "nbformat_minor": 0,
  "metadata": {
    "colab": {
      "name": "pytorch_basic.ipynb",
      "provenance": [],
      "collapsed_sections": [],
      "mount_file_id": "107HSOU-U3f6HN-Qs4ZuYAKnk5fiXnTKG",
      "authorship_tag": "ABX9TyOJmPzzJPx3Hj5s+aP4jhCu",
      "include_colab_link": true
    },
    "kernelspec": {
      "name": "python3",
      "display_name": "Python 3"
    },
    "language_info": {
      "name": "python"
    }
  },
  "cells": [
    {
      "cell_type": "markdown",
      "metadata": {
        "id": "view-in-github",
        "colab_type": "text"
      },
      "source": [
        "<a href=\"https://colab.research.google.com/github/2714830587-xh/CLRS-GG/blob/master/pytorch_basic.ipynb\" target=\"_parent\"><img src=\"https://colab.research.google.com/assets/colab-badge.svg\" alt=\"Open In Colab\"/></a>"
      ]
    },
    {
      "cell_type": "markdown",
      "metadata": {
        "id": "sR7tL2iarVYR"
      },
      "source": [
        "任何工具和算法处理新数据之前，我们建议先进行数据探索。"
      ]
    },
    {
      "cell_type": "code",
      "metadata": {
        "id": "UPeK-HockgmK",
        "colab": {
          "base_uri": "https://localhost:8080/"
        },
        "outputId": "52c93017-5f47-450f-b05d-1b31c2c379a5"
      },
      "source": [
        "\n",
        "# 导入pandas库。用于读csv\n",
        "import pandas\n",
        "# 我们可以检查代码中使用的文件路径是否与文件的存储位置匹配。比如，我自己的代码和数据都放在Colab笔记本的myo_gan文件夹中\n",
        "# pandas DataFrame是一个与numpy数组相似的数据结构，具有许多附加功能，包括可为列和行命名，以及提供便利函数对数据求和和过滤等\n",
        "df=pandas.read_csv('/content/drive/MyDrive/Colab Notebooks/my_gan/mnist_train.csv',header=None)\n",
        "# head()函数查看一个较大DataFrame的前几行,这里我们只显示数据集的前5行\n",
        "df.head()\n",
        "# 我们可以使用info()函数查看DataFrame的概况\n",
        "df.info()"
      ],
      "execution_count": 10,
      "outputs": [
        {
          "output_type": "stream",
          "name": "stdout",
          "text": [
            "<class 'pandas.core.frame.DataFrame'>\n",
            "RangeIndex: 60000 entries, 0 to 59999\n",
            "Columns: 785 entries, 0 to 784\n",
            "dtypes: int64(785)\n",
            "memory usage: 359.3 MB\n"
          ]
        }
      ]
    },
    {
      "cell_type": "code",
      "metadata": {
        "colab": {
          "base_uri": "https://localhost:8080/",
          "height": 314
        },
        "id": "wcRgJH6d737C",
        "outputId": "caaf41ca-2a61-4132-e4da-552909fe5c2c"
      },
      "source": [
        "# 我们使用通用的matplotlib库来显示图像。在下面的代码中，我们导入matplotlib库的pyplot包。\n",
        "import matplotlib.pyplot as plt\n",
        "# 从DataFrame读入数据\n",
        "# 首先，从MNIST数据中选取我们感兴趣的图像。第一幅图像，也就是第一行，可通过row = 0选定。df.iloc[row]选择数据集的第一行并赋值给变量data。\n",
        "row=1\n",
        "data=df.iloc[row]\n",
        "# 接着，我们从该行中选择第一个数字，并将其命名为label，也就是标签。\n",
        "# 然后选择该行中其余的784个值，并将它们重新映射为一个28 × 28的正方形数组。我们将这个数组赋值给变量img\n",
        "label=data[0]\n",
        "# 用+号时,您不能串联不同的数据类型对象。两个对象都必须是str类型。用逗号就可以\n",
        "print(\"label=\"+str(label))\n",
        "print(\"label=\",label)\n",
        "img=data[1:].values.reshape(28,28)\n",
        "plt.title(\"label=\"+str(label))\n",
        "# 绘制位图的imshow()函数有很多标签选项，我们使用的两个选项分别指示pyplot无须平滑像素以及指定调色板的颜色为蓝色。\n",
        "plt.imshow(img,interpolation='none',cmap='Blues')\n",
        "plt.show()\n",
        "\n",
        "\n"
      ],
      "execution_count": 11,
      "outputs": [
        {
          "output_type": "stream",
          "name": "stdout",
          "text": [
            "label=0\n",
            "label= 0\n"
          ]
        },
        {
          "output_type": "display_data",
          "data": {
            "image/png": "[encoded data removed]",
            "text/plain": [
              "<Figure size 432x288 with 1 Axes>"
            ]
          },
          "metadata": {
            "needs_background": "light"
          }
        }
      ]
    },
    {
      "cell_type": "code",
      "metadata": {
        "id": "CVsK1hm1usy-"
      },
      "source": [
        "import pandas\n",
        "import torch\n",
        "import torch.nn as nn\n",
        "import matplotlib.pyplot as plt\n",
        "# 通过继承nn.Module，我们创建了一个神经网络类。它从nn. Module中继承了训练神经网络所需的大部分功能。\n",
        "# 我们定义了处理信息的神经网络模块。对于简单的神经网络，我们选择使用精简的nn.Sequential方法。\n",
        "# 我们定义了损失函数和更新网络可学习参数的优化器。\n",
        "# 最后，我们添加了一个forward()函数，PyTorch会通过它将信息传递给网络。\n",
        "class Classifier(nn.Module):\n",
        "    \n",
        "    def __init__(self):\n",
        "        # initialise parent pytorch class\n",
        "        super().__init__()\n",
        "        \n",
        "        # define neural network layers\n",
        "        self.model = nn.Sequential(\n",
        "            nn.Linear(784, 400),\n",
        "            # nn.Sigmoid(),\n",
        "            nn.LeakyReLU(0.02),\n",
        "            # nn.Tanh(),\n",
        "            nn.LayerNorm(400),\n",
        "            nn.Linear(400, 200),\n",
        "            nn.LeakyReLU(0.02),\n",
        "            nn.LayerNorm(200),\n",
        "            nn.Linear(200, 100),\n",
        "            nn.LeakyReLU(0.02),\n",
        "            nn.LayerNorm(100),\n",
        "            nn.Linear(100, 10),\n",
        "            # nn.Sigmoid()\n",
        "            nn.LeakyReLU(0.02)\n",
        "            # nn.Tanh(),\n",
        "        )\n",
        "        \n",
        "        # create loss function\n",
        "        # BCE只能处理0～1的值，而Leaky ReLU则有可能输出范围之外的值\n",
        "        self.loss_function = nn.MSELoss()\n",
        "        # self.loss_function=nn.BCELoss()\n",
        "\n",
        "        # create optimiser, using simple stochastic gradient descent\n",
        "        self.optimiser = torch.optim.SGD(self.parameters(), lr=0.01)\n",
        "        # self.optimiser=torch.optim.Adam(self.parameters())\n",
        "\n",
        "\n",
        "        # counter and accumulator for progress\n",
        "        self.counter = 0\n",
        "        self.progress = []\n",
        "\n",
        "        pass\n",
        "    \n",
        "    \n",
        "    def forward(self, inputs):\n",
        "        # simply run model\n",
        "        return self.model(inputs)\n",
        "    \n",
        "    \n",
        "    def train(self, inputs, targets):\n",
        "        # calculate the output of the network\n",
        "        outputs = self.forward(inputs)\n",
        "        \n",
        "        # calculate loss\n",
        "        loss = self.loss_function(outputs, targets)\n",
        "\n",
        "        # increase counter and accumulate error every 10\n",
        "        self.counter += 1\n",
        "        if (self.counter % 10 == 0):\n",
        "            self.progress.append(loss.item())\n",
        "            pass\n",
        "        if (self.counter % 10000 == 0):\n",
        "            print(\"counter = \", self.counter)\n",
        "            pass\n",
        "\n",
        "        # zero gradients, perform a backward pass, and update the weights\n",
        "        self.optimiser.zero_grad()\n",
        "        loss.backward()\n",
        "        self.optimiser.step()\n",
        "\n",
        "        pass\n",
        "    \n",
        "    \n",
        "    def plot_progress(self):\n",
        "        df = pandas.DataFrame(self.progress, columns=['loss'])\n",
        "        df.plot(ylim=(0, 1.0), figsize=(16,8), alpha=0.1, marker='.', grid=True, yticks=(0, 0.25, 0.5))\n",
        "        pass\n",
        "    \n",
        "    pass\n"
      ],
      "execution_count": 12,
      "outputs": []
    },
    {
      "cell_type": "code",
      "metadata": {
        "colab": {
          "base_uri": "https://localhost:8080/",
          "height": 1000
        },
        "id": "9x9fjpZ6ZwDu",
        "outputId": "81981c54-d34a-41fe-e3c3-a9931071556d"
      },
      "source": [
        "# 已经将一个CSV文件中的MNIST数据加载到pandas DataFrame中。我们完全可以继续从DataFrame中读取数据。\n",
        "# 然而，为了学习PyTorch，我们应该尝试以PyTorch的方式加载和使用数据。\n",
        "# PyTorch使用torch.utils.data.DataLoader实现了一些实用的功能，比如自动打乱数据顺序、多个进程并行加载、分批处理等，需要先将数据载入一个torch.utils.data.Dataset对象。\n",
        "from torch.utils.data import Dataset\n",
        "# 当我们从nn.Module继承一个神经网络类时，需要定义forward()函数。\n",
        "# 同样地，对于继承自Dataset的数据集，我们需提供以下两个特殊的函数。\n",
        "# __len__()，返回数据集中的项目总数。__getitem__()，返回数据集中的第n项。\n",
        "# 我们会创建一个MnistDataset类，并提供__len__()方法，允许PyTorch通过len(mnist_dataset)获取数据集的大小。\n",
        "# 同时，我们也会提供__getitem__()，允许我们通过索引获取项目，例如使用mnist_dataset[3]访问第4项。\n",
        "class MnistDataset(Dataset):\n",
        "    def __init__(self,csv_file):\n",
        "        self.data_df=pandas.read_csv(csv_file,header=None)\n",
        "    def __len__(self):\n",
        "        return len(self.data_df)\n",
        "    def __getitem__(self, index):\n",
        "        # 目标图形标签\n",
        "        label=self.data_df.iloc[index,0]\n",
        "        target=torch.zeros((10))\n",
        "        target[label]=1.0\n",
        "\n",
        "        # 图像数据,取值范围0~255,标准化为0~1\n",
        "        image_values=torch.FloatTensor(self.data_df.iloc[index,1:].values)/255.0\n",
        "        # 返回标签,图像数据张量和,目标张量\n",
        "        return label,image_values,target\n",
        "\n",
        "    # 我们也可以为MnistDataset类添加一个制图方法，以方便查看我们正在处理的数据。\n",
        "    def plot_image(self,index):\n",
        "        arr=self.data_df.iloc[index,1:].values.reshape(28,28)\n",
        "        plt.title(\"label=\"+str(self.data_df.iloc[index,0]))\n",
        "        plt.imshow(arr, interpolation='none', cmap='Blues')\n",
        "        \n",
        "# 让我们检查一下到目前为止是否一切正常。首先，我们从类中创建一个数据集对象，并将其CSV文件位置传递给它。\n",
        "mnist_dataset=MnistDataset('/content/drive/MyDrive/Colab Notebooks/my_gan/mnist_train.csv')\n",
        "# # 我们知道类构造函数将CSV文件中的数据加载到pandas DataFrame中。\n",
        "# # 让我们使用plot_image()函数绘制数据集中的第10幅图像。第10幅图像的索引是9，因为第一幅的索引是0\n",
        "mnist_dataset.plot_image(9)\n",
        "# 检查mnist_dataset是否允许我们通过索引访问，例如mnist_dataset[100]。我们应该看到它返回标签、像素值和目标张量\n",
        "mnist_dataset[100]"
      ],
      "execution_count": 13,
      "outputs": [
        {
          "output_type": "execute_result",
          "data": {
            "text/plain": [
              "(5,\n",
              " tensor([0.0000, 0.0000, 0.0000, 0.0000, 0.0000, 0.0000, 0.0000, 0.0000, 0.0000,\n",
              "         0.0000, 0.0000, 0.0000, 0.0000, 0.0000, 0.0000, 0.0000, 0.0000, 0.0000,\n",
              "         0.0000, 0.0000, 0.0000, 0.0000, 0.0000, 0.0000, 0.0000, 0.0000, 0.0000,\n",
              "         0.0000, 0.0000, 0.0000, 0.0000, 0.0000, 0.0000, 0.0000, 0.0000, 0.0000,\n",
              "         0.0000, 0.0000, 0.0000, 0.0000, 0.0000, 0.0000, 0.0000, 0.0000, 0.0000,\n",
              "         0.0000, 0.0000, 0.0000, 0.0000, 0.0000, 0.0000, 0.0000, 0.0000, 0.0000,\n",
              "         0.0000, 0.0000, 0.0000, 0.0000, 0.0000, 0.0000, 0.0000, 0.0000, 0.0000,\n",
              "         0.0000, 0.0000, 0.0000, 0.0000, 0.0000, 0.0000, 0.0000, 0.0000, 0.0000,\n",
              "         0.0000, 0.0000, 0.0000, 0.0000, 0.0000, 0.0000, 0.0000, 0.0000, 0.0000,\n",
              "         0.0000, 0.0000, 0.0000, 0.0000, 0.0000, 0.0000, 0.0000, 0.0000, 0.0000,\n",
              "         0.0000, 0.0000, 0.0000, 0.0000, 0.0000, 0.0000, 0.0000, 0.0000, 0.0000,\n",
              "         0.0000, 0.0000, 0.0000, 0.0000, 0.0000, 0.0000, 0.0000, 0.0000, 0.0000,\n",
              "         0.0000, 0.0000, 0.0000, 0.0000, 0.0000, 0.0000, 0.0000, 0.0000, 0.0000,\n",
              "         0.0000, 0.0000, 0.0000, 0.0000, 0.0000, 0.0000, 0.0000, 0.0000, 0.0000,\n",
              "         0.0000, 0.0000, 0.0000, 0.0000, 0.0000, 0.0000, 0.0000, 0.0000, 0.0000,\n",
              "         0.0000, 0.0000, 0.0000, 0.0000, 0.0000, 0.0000, 0.0000, 0.0000, 0.0000,\n",
              "         0.0000, 0.0000, 0.0000, 0.0000, 0.0000, 0.0000, 0.0000, 0.0000, 0.0000,\n",
              "         0.0000, 0.0000, 0.0000, 0.0000, 0.0000, 0.0000, 0.0000, 0.0000, 0.0000,\n",
              "         0.0000, 0.0000, 0.0000, 0.0000, 0.0000, 0.0000, 0.0000, 0.0000, 0.0000,\n",
              "         0.0000, 0.0000, 0.0000, 0.0000, 0.0000, 0.0000, 0.0000, 0.0000, 0.0000,\n",
              "         0.0000, 0.0078, 0.0706, 0.1804, 0.5333, 0.5333, 0.9569, 1.0000, 0.9451,\n",
              "         0.4039, 0.0000, 0.0000, 0.0000, 0.0000, 0.0000, 0.0000, 0.0000, 0.0000,\n",
              "         0.0000, 0.0000, 0.0000, 0.0000, 0.0000, 0.0000, 0.0000, 0.0000, 0.0000,\n",
              "         0.0588, 0.3686, 0.6392, 0.9922, 0.9922, 0.9922, 0.9922, 0.9333, 0.8549,\n",
              "         0.8000, 0.1373, 0.0000, 0.0000, 0.0000, 0.0000, 0.0000, 0.0000, 0.0000,\n",
              "         0.0000, 0.0000, 0.0000, 0.0000, 0.0000, 0.0000, 0.0000, 0.0000, 0.0000,\n",
              "         0.0000, 0.5137, 0.9922, 0.9922, 0.9922, 0.9922, 0.9294, 0.7843, 0.2235,\n",
              "         0.0000, 0.0000, 0.0000, 0.0000, 0.0000, 0.0000, 0.0000, 0.0000, 0.0000,\n",
              "         0.0000, 0.0000, 0.0000, 0.0000, 0.0000, 0.0000, 0.0000, 0.0000, 0.0000,\n",
              "         0.0000, 0.6078, 0.9647, 0.9922, 0.9686, 0.4235, 0.2549, 0.1765, 0.0000,\n",
              "         0.0000, 0.0000, 0.0000, 0.0000, 0.0000, 0.0000, 0.0000, 0.0000, 0.0000,\n",
              "         0.0000, 0.0000, 0.0000, 0.0000, 0.0000, 0.0000, 0.0000, 0.0000, 0.0000,\n",
              "         0.0000, 0.0000, 0.8118, 0.9922, 0.9922, 0.9020, 0.0000, 0.0000, 0.0000,\n",
              "         0.0000, 0.0000, 0.0000, 0.0000, 0.0000, 0.0000, 0.0000, 0.0000, 0.0000,\n",
              "         0.0000, 0.0000, 0.0000, 0.0000, 0.0000, 0.0000, 0.0000, 0.0000, 0.0000,\n",
              "         0.0000, 0.0000, 0.0000, 0.6157, 0.9922, 0.9922, 0.4902, 0.0000, 0.0000,\n",
              "         0.0000, 0.0000, 0.0000, 0.0000, 0.0000, 0.0000, 0.0000, 0.0000, 0.0000,\n",
              "         0.0000, 0.0000, 0.0000, 0.0000, 0.0000, 0.0000, 0.0000, 0.0000, 0.0000,\n",
              "         0.0000, 0.0000, 0.0000, 0.0000, 0.3490, 0.9922, 0.9804, 0.2235, 0.0000,\n",
              "         0.0000, 0.0000, 0.0000, 0.0000, 0.0000, 0.0000, 0.0000, 0.0000, 0.0000,\n",
              "         0.0000, 0.0000, 0.0000, 0.0000, 0.0000, 0.0000, 0.0000, 0.0000, 0.0000,\n",
              "         0.0000, 0.0000, 0.0000, 0.0000, 0.0000, 0.3490, 0.9922, 0.9686, 0.0000,\n",
              "         0.0000, 0.0000, 0.0000, 0.0000, 0.0000, 0.0000, 0.0000, 0.0000, 0.0000,\n",
              "         0.0000, 0.0000, 0.0000, 0.0000, 0.0000, 0.0000, 0.0000, 0.0000, 0.0000,\n",
              "         0.0000, 0.0000, 0.0000, 0.0000, 0.0000, 0.0000, 0.3490, 0.9922, 0.9686,\n",
              "         0.0000, 0.0000, 0.0000, 0.0000, 0.0000, 0.0000, 0.0000, 0.0000, 0.0000,\n",
              "         0.0000, 0.0000, 0.0000, 0.0000, 0.0000, 0.0000, 0.0000, 0.0000, 0.0000,\n",
              "         0.0000, 0.0000, 0.0000, 0.0000, 0.0000, 0.0000, 0.0000, 0.3490, 0.9922,\n",
              "         0.9686, 0.0000, 0.0000, 0.0000, 0.0000, 0.0000, 0.0000, 0.0000, 0.0000,\n",
              "         0.0000, 0.0000, 0.0000, 0.0000, 0.0000, 0.0000, 0.0000, 0.0000, 0.0000,\n",
              "         0.0000, 0.0000, 0.0000, 0.0000, 0.0000, 0.0000, 0.0000, 0.0000, 0.0824,\n",
              "         0.9059, 0.9765, 0.1333, 0.0000, 0.0000, 0.0000, 0.0000, 0.0000, 0.0000,\n",
              "         0.0000, 0.0000, 0.0000, 0.0000, 0.0000, 0.0000, 0.0000, 0.0000, 0.0000,\n",
              "         0.0000, 0.0000, 0.0000, 0.0000, 0.0000, 0.0000, 0.0000, 0.0000, 0.0000,\n",
              "         0.0000, 0.8824, 0.9922, 0.9059, 0.8353, 0.8353, 0.4824, 0.0627, 0.0000,\n",
              "         0.0000, 0.0000, 0.0000, 0.0000, 0.0000, 0.0000, 0.0000, 0.0000, 0.0000,\n",
              "         0.0000, 0.0000, 0.0000, 0.0000, 0.0000, 0.0000, 0.0000, 0.0000, 0.0000,\n",
              "         0.0000, 0.0000, 0.6745, 0.9922, 0.9922, 0.9922, 0.9922, 0.9922, 0.7451,\n",
              "         0.2471, 0.0000, 0.0000, 0.0000, 0.0000, 0.0000, 0.0000, 0.0000, 0.0000,\n",
              "         0.0000, 0.0000, 0.0000, 0.0000, 0.0000, 0.0000, 0.0000, 0.0000, 0.0000,\n",
              "         0.0000, 0.0000, 0.0000, 0.0078, 0.4549, 0.2824, 0.4863, 0.8196, 0.9922,\n",
              "         0.9922, 0.5529, 0.0000, 0.0000, 0.0000, 0.0000, 0.0000, 0.0000, 0.0000,\n",
              "         0.0000, 0.0000, 0.0000, 0.0000, 0.0000, 0.0000, 0.0000, 0.0000, 0.0000,\n",
              "         0.0000, 0.0000, 0.0000, 0.0000, 0.0000, 0.0000, 0.0000, 0.0000, 0.0980,\n",
              "         0.8588, 0.9922, 0.8078, 0.0118, 0.0000, 0.0000, 0.0000, 0.0000, 0.0000,\n",
              "         0.0000, 0.0000, 0.0000, 0.0000, 0.0000, 0.0000, 0.0000, 0.0000, 0.0000,\n",
              "         0.0000, 0.0000, 0.0000, 0.0000, 0.0000, 0.0000, 0.0000, 0.0000, 0.0000,\n",
              "         0.0000, 0.4078, 0.9647, 0.9922, 0.0196, 0.0000, 0.0000, 0.0000, 0.0000,\n",
              "         0.0000, 0.0000, 0.0000, 0.0000, 0.0000, 0.0000, 0.0000, 0.0000, 0.0000,\n",
              "         0.0000, 0.0000, 0.0000, 0.0000, 0.0000, 0.0000, 0.0000, 0.0000, 0.0000,\n",
              "         0.0000, 0.0000, 0.0000, 0.8353, 0.9922, 0.0196, 0.0000, 0.0000, 0.0000,\n",
              "         0.0000, 0.0000, 0.0000, 0.0000, 0.0000, 0.0000, 0.0000, 0.0000, 0.0000,\n",
              "         0.0000, 0.0000, 0.0000, 0.0000, 0.0000, 0.0000, 0.0000, 0.0000, 0.0000,\n",
              "         0.0000, 0.0000, 0.0000, 0.1020, 0.8863, 0.9922, 0.0196, 0.0000, 0.0000,\n",
              "         0.0000, 0.0000, 0.0000, 0.0000, 0.0000, 0.0000, 0.0000, 0.0000, 0.0000,\n",
              "         0.0000, 0.0000, 0.0000, 0.0000, 0.0000, 0.0000, 0.0000, 0.0000, 0.0000,\n",
              "         0.0000, 0.0000, 0.0000, 0.0000, 0.5176, 0.9922, 0.8196, 0.0118, 0.0000,\n",
              "         0.0000, 0.0000, 0.0000, 0.0000, 0.0000, 0.0000, 0.0000, 0.0000, 0.0000,\n",
              "         0.0000, 0.0000, 0.0000, 0.0000, 0.0000, 0.0000, 0.0000, 0.0000, 0.0000,\n",
              "         0.0000, 0.0000, 0.0000, 0.0000, 0.0000, 0.3059, 0.9922, 0.3373, 0.0000,\n",
              "         0.0000, 0.0000, 0.0000, 0.0000, 0.0000, 0.0000, 0.0000, 0.0000, 0.0000,\n",
              "         0.0000, 0.0000, 0.0000, 0.0000, 0.0000, 0.0000, 0.0000, 0.0000, 0.0000,\n",
              "         0.0000, 0.0000, 0.0000, 0.0000, 0.0000, 0.0000, 0.0000, 0.0000, 0.0000,\n",
              "         0.0000, 0.0000, 0.0000, 0.0000, 0.0000, 0.0000, 0.0000, 0.0000, 0.0000,\n",
              "         0.0000, 0.0000, 0.0000, 0.0000, 0.0000, 0.0000, 0.0000, 0.0000, 0.0000,\n",
              "         0.0000, 0.0000, 0.0000, 0.0000, 0.0000, 0.0000, 0.0000, 0.0000, 0.0000,\n",
              "         0.0000, 0.0000, 0.0000, 0.0000, 0.0000, 0.0000, 0.0000, 0.0000, 0.0000,\n",
              "         0.0000]),\n",
              " tensor([0., 0., 0., 0., 0., 1., 0., 0., 0., 0.]))"
            ]
          },
          "metadata": {},
          "execution_count": 13
        },
        {
          "output_type": "display_data",
          "data": {
            "image/png": "[encoded data removed]",
            "text/plain": [
              "<Figure size 432x288 with 1 Axes>"
            ]
          },
          "metadata": {
            "needs_background": "light"
          }
        }
      ]
    },
    {
      "cell_type": "code",
      "metadata": {
        "colab": {
          "base_uri": "https://localhost:8080/"
        },
        "id": "PXuwbqBN3KaT",
        "outputId": "60866de2-ff66-4d55-b274-9d029e9f3053"
      },
      "source": [
        "\n",
        "\n",
        "c=Classifier()\n",
        "# 在MINIST数据集上训练神经网络\n",
        "epochs=11\n",
        "for i in range(epochs):\n",
        "  print(\"training epoch\",i+1,\"of\",epochs)\n",
        "  for label, image_data_tensor, target_tensor in mnist_dataset:\n",
        "        c.train(image_data_tensor, target_tensor)\n"
      ],
      "execution_count": 14,
      "outputs": [
        {
          "output_type": "stream",
          "name": "stdout",
          "text": [
            "training epoch 1 of 11\n",
            "counter =  10000\n",
            "counter =  20000\n",
            "counter =  30000\n",
            "counter =  40000\n",
            "counter =  50000\n",
            "counter =  60000\n",
            "training epoch 2 of 11\n",
            "counter =  70000\n",
            "counter =  80000\n",
            "counter =  90000\n",
            "counter =  100000\n",
            "counter =  110000\n",
            "counter =  120000\n",
            "training epoch 3 of 11\n",
            "counter =  130000\n",
            "counter =  140000\n",
            "counter =  150000\n",
            "counter =  160000\n",
            "counter =  170000\n",
            "counter =  180000\n",
            "training epoch 4 of 11\n",
            "counter =  190000\n",
            "counter =  200000\n",
            "counter =  210000\n",
            "counter =  220000\n",
            "counter =  230000\n",
            "counter =  240000\n",
            "training epoch 5 of 11\n",
            "counter =  250000\n",
            "counter =  260000\n",
            "counter =  270000\n",
            "counter =  280000\n",
            "counter =  290000\n",
            "counter =  300000\n",
            "training epoch 6 of 11\n",
            "counter =  310000\n",
            "counter =  320000\n",
            "counter =  330000\n",
            "counter =  340000\n",
            "counter =  350000\n",
            "counter =  360000\n",
            "training epoch 7 of 11\n",
            "counter =  370000\n",
            "counter =  380000\n",
            "counter =  390000\n",
            "counter =  400000\n",
            "counter =  410000\n",
            "counter =  420000\n",
            "training epoch 8 of 11\n",
            "counter =  430000\n",
            "counter =  440000\n",
            "counter =  450000\n",
            "counter =  460000\n",
            "counter =  470000\n",
            "counter =  480000\n",
            "training epoch 9 of 11\n",
            "counter =  490000\n",
            "counter =  500000\n",
            "counter =  510000\n",
            "counter =  520000\n",
            "counter =  530000\n",
            "counter =  540000\n",
            "training epoch 10 of 11\n",
            "counter =  550000\n",
            "counter =  560000\n",
            "counter =  570000\n",
            "counter =  580000\n",
            "counter =  590000\n",
            "counter =  600000\n",
            "training epoch 11 of 11\n",
            "counter =  610000\n",
            "counter =  620000\n",
            "counter =  630000\n",
            "counter =  640000\n",
            "counter =  650000\n",
            "counter =  660000\n"
          ]
        }
      ]
    },
    {
      "cell_type": "code",
      "metadata": {
        "colab": {
          "base_uri": "https://localhost:8080/",
          "height": 483
        },
        "id": "Kdue-FH8-tjx",
        "outputId": "06020173-942c-434c-a5ac-bb90b6914a0d"
      },
      "source": [
        "# 从上图可见，损失值从一开始迅速下降到大约0.1，并在训练过程中越来越慢地接近0。同时，噪声也非常多。\n",
        "c.plot_progress()"
      ],
      "execution_count": 15,
      "outputs": [
        {
          "output_type": "display_data",
          "data": {
            "image/png": "[encoded data removed]",
            "text/plain": [
              "<Figure size 1152x576 with 1 Axes>"
            ]
          },
          "metadata": {
            "needs_background": "light"
          }
        }
      ]
    },
    {
      "cell_type": "code",
      "metadata": {
        "colab": {
          "base_uri": "https://localhost:8080/",
          "height": 281
        },
        "id": "ln8-hDsw-7xo",
        "outputId": "5e42d237-fa92-44df-cfcb-411da3d3f0c9"
      },
      "source": [
        "# 加载MNIST测试数据\n",
        "mnist_test_dataset=MnistDataset(\"/content/drive/MyDrive/Colab Notebooks/my_gan/mnist_test.csv\")\n",
        "# 选一副画像\n",
        "record=19\n",
        "# 绘制\n",
        "mnist_test_dataset.plot_image(record)\n"
      ],
      "execution_count": 16,
      "outputs": [
        {
          "output_type": "display_data",
          "data": {
            "image/png": "[encoded data removed]",
            "text/plain": [
              "<Figure size 432x288 with 1 Axes>"
            ]
          },
          "metadata": {
            "needs_background": "light"
          }
        }
      ]
    },
    {
      "cell_type": "code",
      "metadata": {
        "colab": {
          "base_uri": "https://localhost:8080/",
          "height": 283
        },
        "id": "8_l0Ni5J-67P",
        "outputId": "9175011f-d2e5-494e-ef30-8fd4ef94cae2"
      },
      "source": [
        "# 下面的代码继续使用第20幅图像并提取像素值作为image_data。\n",
        "# 我们使用forward()函数将图像传递并通过神经网络。\n",
        "image_data=mnist_test_dataset[record][1]\n",
        "# 调用训练好的神经网络\n",
        "output=c.forward(image_data)\n",
        "# 绘制输出张量\n",
        "# 输出被转换成一个简单的numpy数组，再被包装成一个DataFrame，以便绘制柱形图。\n",
        "pandas.DataFrame(output.detach().numpy()).plot(kind=\"bar\",legend=False,ylim=(0,1))"
      ],
      "execution_count": 17,
      "outputs": [
        {
          "output_type": "execute_result",
          "data": {
            "text/plain": [
              "<matplotlib.axes._subplots.AxesSubplot at 0x7fe92a95fb90>"
            ]
          },
          "metadata": {},
          "execution_count": 17
        },
        {
          "output_type": "display_data",
          "data": {
            "image/png": "[encoded data removed]",
            "text/plain": [
              "<Figure size 432x288 with 1 Axes>"
            ]
          },
          "metadata": {
            "needs_background": "light"
          }
        }
      ]
    },
    {
      "cell_type": "code",
      "metadata": {
        "colab": {
          "base_uri": "https://localhost:8080/"
        },
        "id": "yu31vU_yBKb4",
        "outputId": "f69324d0-2ff2-41b1-98ec-18c987f98854"
      },
      "source": [
        "# 测试训练后的网络\n",
        "score=0\n",
        "items=0\n",
        "for label, image_data_tensor, target_tensor in mnist_test_dataset:\n",
        "  answer=c.forward(image_data_tensor).detach().numpy()\n",
        "  if(answer.argmax()==label):\n",
        "    score+=1\n",
        "  items+=1\n",
        "print(score,items,score/items)"
      ],
      "execution_count": 18,
      "outputs": [
        {
          "output_type": "stream",
          "name": "stdout",
          "text": [
            "9819 10000 0.9819\n"
          ]
        }
      ]
    }
  ]
}