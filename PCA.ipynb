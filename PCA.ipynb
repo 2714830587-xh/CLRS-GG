{
  "nbformat": 4,
  "nbformat_minor": 0,
  "metadata": {
    "colab": {
      "name": "PCA.ipynb",
      "provenance": [],
      "authorship_tag": "ABX9TyN6ZZY/o0ZT4YAQrW8TPRiP",
      "include_colab_link": true
    },
    "kernelspec": {
      "name": "python3",
      "display_name": "Python 3"
    },
    "language_info": {
      "name": "python"
    }
  },
  "cells": [
    {
      "cell_type": "markdown",
      "metadata": {
        "id": "view-in-github",
        "colab_type": "text"
      },
      "source": [
        "<a href=\"https://colab.research.google.com/github/2714830587-xh/CLRS-GG/blob/master/PCA.ipynb\" target=\"_parent\"><img src=\"https://colab.research.google.com/assets/colab-badge.svg\" alt=\"Open In Colab\"/></a>"
      ]
    },
    {
      "cell_type": "markdown",
      "source": [
        "PCA分析"
      ],
      "metadata": {
        "id": "5Lq7JCUwlrgs"
      }
    },
    {
      "cell_type": "markdown",
      "source": [
        "**推广到一般情况**，\n",
        "如果我们有n个特征，如何进行数据降维。\n",
        "\n",
        "第一步：针对采样得到的m个样本，我们得到了一个n*m的样本数据矩阵 ； \n",
        "第二步：对每一个特征的取值，进行零均值化处理，如果这些特征不在一个数量级上，我们还应该将其除以标准差。 \n",
        "第三步：利用预处理后的矩阵A，求个特征的协方差矩阵C=(n-1)AA^T： \n",
        "第四步：对协方差矩阵进行对角化处理，求得矩阵C的n个标准正交特征向量，并按照对应的特征值的大小依次排列。 \n",
        "第五步：按照事先规定的主成分贡献度，提取满足该数值要求的前k个新构造的特征作为主成分，构造成数据压缩矩阵： ​ \n",
        "第六步：通过矩阵相乘PA实现前k个主成分的提取，将n维特征压缩到k维"
      ],
      "metadata": {
        "id": "pFGki1dLsrQ_"
      }
    },
    {
      "cell_type": "markdown",
      "source": [
        "1.零值化处理"
      ],
      "metadata": {
        "id": "i8ZpRZz-l1RY"
      }
    },
    {
      "cell_type": "code",
      "execution_count": null,
      "metadata": {
        "colab": {
          "base_uri": "https://localhost:8080/"
        },
        "id": "Om75uDlRlIJU",
        "outputId": "451274f9-c2eb-499b-d640-1b6f607eb212"
      },
      "outputs": [
        {
          "output_type": "stream",
          "name": "stdout",
          "text": [
            "[[2 2 4 8 4]\n",
            " [2 6 6 8 8]]\n",
            "[[6. 4.]\n",
            " [4. 6.]]\n",
            "[[-2. -2.  0.  4.  0.]\n",
            " [-4.  0.  0.  2.  2.]]\n",
            "[[6. 4.]\n",
            " [4. 6.]]\n"
          ]
        }
      ],
      "source": [
        "import numpy as np \n",
        "import matplotlib.pyplot as plt \n",
        "x = [2,2,4,8,4] \n",
        "y = [2,6,6,8,8]\n",
        "# .vstack垂直（按行）按顺序堆叠数组。\n",
        "S1=np.vstack((x,y))\n",
        "print(S1) \n",
        "print(np.cov(S1))\n",
        "x = x - np.mean(x) \n",
        "y = y - np.mean(y)\n",
        "S2=np.vstack((x,y))\n",
        "print(S2) \n",
        "print(np.cov(S2))"
      ]
    },
    {
      "cell_type": "code",
      "source": [
        "import numpy as np \n",
        "from scipy import linalg \n",
        "C = np.array([[6, 4], [4, 6]])\n",
        "# 特征值 和 归一化（单位“长度”）特征向量\n",
        "evalue, evector = linalg.eig(C) \n",
        "print(evalue) \n",
        "print(evector)"
      ],
      "metadata": {
        "colab": {
          "base_uri": "https://localhost:8080/"
        },
        "id": "yNf9GDvioPVD",
        "outputId": "8bef6e53-2945-48a9-a819-e0a885b56f2c"
      },
      "execution_count": null,
      "outputs": [
        {
          "output_type": "stream",
          "name": "stdout",
          "text": [
            "[10.+0.j  2.+0.j]\n",
            "[[ 0.70710678 -0.70710678]\n",
            " [ 0.70710678  0.70710678]]\n"
          ]
        }
      ]
    },
    {
      "cell_type": "markdown",
      "source": [
        "将原始特征的采样值变换到两个新选取的投影基上，就得到新的一组特征取值"
      ],
      "metadata": {
        "id": "u40VTED9qvXe"
      }
    },
    {
      "cell_type": "code",
      "source": [
        "import numpy as np \n",
        "x = [2,2,4,8,4] \n",
        "y = [2,6,6,8,8] \n",
        "x = x - np.mean(x) \n",
        "y = y - np.mean(y) \n",
        "A = np.vstack((x,y)) \n",
        "p_1 = [0.707, 0.707] \n",
        "p_2 = [-0.707, 0.707] \n",
        "P = np.vstack((p_1,p_2)) \n",
        "print(A) \n",
        "print(np.dot(P,A))"
      ],
      "metadata": {
        "colab": {
          "base_uri": "https://localhost:8080/"
        },
        "id": "hEQTPcZGqsi-",
        "outputId": "94fab963-5d21-4d19-cc12-8eb30fed4ae8"
      },
      "execution_count": null,
      "outputs": [
        {
          "output_type": "stream",
          "name": "stdout",
          "text": [
            "[[-2. -2.  0.  4.  0.]\n",
            " [-4.  0.  0.  2.  2.]]\n",
            "[[-4.242 -1.414  0.     4.242  1.414]\n",
            " [-1.414  1.414  0.    -1.414  1.414]]\n"
          ]
        }
      ]
    },
    {
      "cell_type": "markdown",
      "source": [
        ""
      ],
      "metadata": {
        "id": "dBgOlvkMtvyV"
      }
    },
    {
      "cell_type": "markdown",
      "source": [
        "数据降维，就是要方差大的，包含信息量大例如本题的[0.707，0.707】方向上的特征的方差是2.5大于另外一个0.5的所以丢掉那个。那么如何衡量损失。用主组成贡献-就是求对角矩阵各特征值所占比例。例如2.5/（2.5+0.5）=83.3%数据压缩了50%信息损失了16.7%"
      ],
      "metadata": {
        "id": "MsTJiZahrW7n"
      }
    }
  ]
}