{
  "nbformat": 4,
  "nbformat_minor": 0,
  "metadata": {
    "colab": {
      "name": "算法与数据结构.ipynb",
      "provenance": [],
      "toc_visible": true,
      "authorship_tag": "ABX9TyN/RydyjvI3tIqzhJ1cvhz+",
      "include_colab_link": true
    },
    "kernelspec": {
      "name": "python3",
      "display_name": "Python 3"
    },
    "language_info": {
      "name": "python"
    }
  },
  "cells": [
    {
      "cell_type": "markdown",
      "metadata": {
        "id": "view-in-github",
        "colab_type": "text"
      },
      "source": [
        "<a href=\"https://colab.research.google.com/github/2714830587-xh/CLRS-GG/blob/master/%E7%AE%97%E6%B3%95%E4%B8%8E%E6%95%B0%E6%8D%AE%E7%BB%93%E6%9E%84.ipynb\" target=\"_parent\"><img src=\"https://colab.research.google.com/assets/colab-badge.svg\" alt=\"Open In Colab\"/></a>"
      ]
    },
    {
      "cell_type": "markdown",
      "source": [
        "# **数组**\n"
      ],
      "metadata": {
        "id": "79R8kHWS8vJF"
      }
    },
    {
      "cell_type": "markdown",
      "source": [
        "## Q1阵列旋转"
      ],
      "metadata": {
        "id": "0LuReHwYNN8f"
      }
    },
    {
      "cell_type": "code",
      "execution_count": null,
      "metadata": {
        "colab": {
          "base_uri": "https://localhost:8080/"
        },
        "id": "TgjZm8rb6WbD",
        "outputId": "2b8468a3-26f9-4002-ca16-5e4f12e85f64"
      },
      "outputs": [
        {
          "output_type": "stream",
          "name": "stdout",
          "text": [
            "3 4 5 6 7 1 2 "
          ]
        }
      ],
      "source": [
        "# 编写一个函数 rotate(ar[], d, n) 将大小为 n 的 arr[] 旋转 d 个元素。\n",
        "# method1:申请临时空间\n",
        "# 时间复杂度： O(n) \n",
        "# 辅助空间： O(d)\n",
        "import numpy as np\n",
        "def rotate_print(arr,size):\n",
        "    for i in range(size):\n",
        "        print(arr[i],end=\" \")\n",
        "def rotate_memory(arr,d,n):\n",
        "    brr=np.zeros(d)\n",
        "    for i in range(d):\n",
        "        brr[i]=arr[i];\n",
        "    for i in range(n):\n",
        "        if(i<n-2):\n",
        "            arr[i]=arr[i+2]\n",
        "            j=0\n",
        "        else:\n",
        "            arr[i]=int(brr[j])\n",
        "            j=j+1\n",
        "arr=[1,2,3,4,5,6,7]\n",
        "n=len(arr)\n",
        "d=2\n",
        "rotate_memory(arr,d,n)\n",
        "rotate_print(arr,7)\n",
        "\n"
      ]
    },
    {
      "cell_type": "code",
      "source": [
        "#方法二（一一旋转） \n",
        "# 时间复杂度：O(n * d) \n",
        "# 辅助空间：O(1)\n",
        "def leftrotate(arr,d,n):\n",
        "    for i in range(d):\n",
        "        leftrotateone(arr,n)\n",
        "def leftrotateone(arr,n):\n",
        "    temp=arr[0]\n",
        "    for i in  range(n-1):\n",
        "        arr[i]=arr[i+1]\n",
        "    arr[n-1]=temp\n",
        "def rotate_print(arr,size):\n",
        "    for i in range(size):\n",
        "        print(arr[i],end=\" \")\n",
        "arr=[1,2,3,4,5,6,7]\n",
        "n=len(arr)\n",
        "leftrotate(arr,d=2,n=len(arr))\n",
        "rotate_print(arr,n)"
      ],
      "metadata": {
        "colab": {
          "base_uri": "https://localhost:8080/"
        },
        "id": "5GiKHci4olBi",
        "outputId": "03633528-419f-4865-83c5-3d45601c7657"
      },
      "execution_count": null,
      "outputs": [
        {
          "output_type": "stream",
          "name": "stdout",
          "text": [
            "3 4 5 6 7 1 2 "
          ]
        }
      ]
    },
    {
      "cell_type": "markdown",
      "source": [
        "方法 3（杂耍算法） \n",
        "这是方法2的扩展。不是一个一个移动，而是将数组分成不同的集合 \n",
        "其中集合数等于 n 和 d 的 GCD，并在集合内移动元素。 \n",
        "如果 GCD 为 1，如上面的示例数组（n = 7 和 d =2），则元素将仅在一组内移动，我们只需从 temp = arr[0] 开始并继续移动 arr[I+d]到 arr[I] 并最终将 temp 存储在正确的位置。\n",
        "这是 n = 12 和 d = 3 的示例。\n",
        "https://www.geeksforgeeks.org/array-rotation/?ref=lbp"
      ],
      "metadata": {
        "id": "RkO4JQkmKcuX"
      }
    },
    {
      "cell_type": "code",
      "source": [
        "# 时间复杂度： O(n) \n",
        "# 辅助空间： O(1)\n",
        "def gcd(a,b):\n",
        "    if(b==0):\n",
        "        return a\n",
        "    else:\n",
        "        return gcd(b,a%b)\n",
        "print(gcd(15,10))\n",
        "\n",
        "def leftrotate(arr,d,n):\n",
        "    d=d%n\n",
        "    b=gcd(n,d)\n",
        "    for i in range(b):\n",
        "        temp=arr[i]\n",
        "        j=i\n",
        "        while 1:\n",
        "            k=j+d\n",
        "            if k>=n:\n",
        "                k=k-n\n",
        "            if k==i:\n",
        "                break\n",
        "            arr[j]=arr[k]\n",
        "            j=k\n",
        "        arr[j]=temp\n",
        "def rotate_print(arr,size):\n",
        "    for i in range(size):\n",
        "        print(arr[i],end=\" \")\n",
        "arr=[1,2,3,4,5,6,7]\n",
        "n=len(arr)\n",
        "d=2\n",
        "leftrotate(arr,d,n)\n",
        "rotate_print(arr,7)"
      ],
      "metadata": {
        "colab": {
          "base_uri": "https://localhost:8080/"
        },
        "id": "CFNkbqtT8BF0",
        "outputId": "7f0113d4-0636-4a50-b5df-2316b72bef18"
      },
      "execution_count": null,
      "outputs": [
        {
          "output_type": "stream",
          "name": "stdout",
          "text": [
            "5\n",
            "3 4 5 6 7 1 2 "
          ]
        }
      ]
    },
    {
      "cell_type": "markdown",
      "source": [
        "Method 4 (The Reversal Algorithm) :\n",
        "\n",
        "Let AB are the two parts of the input array where A = arr[0..d-1] and B = arr[d..n-1]. The idea of the algorithm is : \n",
        "\n",
        "将 A 倒转得到 ArB，其中 Ar 是 A 的逆向。\n",
        "\n",
        "将 B 倒转得到 ArBr，其中 Br 是 B 的逆向。\n",
        "\n",
        "反转所有得到 (ArBr) r = BA。"
      ],
      "metadata": {
        "id": "4EtIENCq0gPF"
      }
    },
    {
      "cell_type": "code",
      "source": [
        "# 时间复杂度： O(n)\n",
        "\n",
        "# 辅助空间：O(1)\n",
        "def reversal(arr,start,end):\n",
        "  while(start<end):\n",
        "    temp=arr[start]\n",
        "    arr[start]=arr[end]\n",
        "    arr[end]=temp\n",
        "    start=start+1\n",
        "    end=end-1\n",
        "def rotate_print(arr,size):\n",
        "    for i in range(size):\n",
        "        print(arr[i],end=\" \")\n",
        "def m4_leftrotate(arr,d,n):\n",
        "  if d==0:\n",
        "    return\n",
        "  reversal(arr,0,d-1)\n",
        "  reversal(arr,d,n-1)\n",
        "  reversal(arr,0,n-1)\n",
        "arr=[1,2,3,4,5,6,7]\n",
        "n=len(arr)\n",
        "d=2\n",
        "m4_leftrotate(arr,d,n)\n",
        "rotate_print(arr,n)\n"
      ],
      "metadata": {
        "colab": {
          "base_uri": "https://localhost:8080/"
        },
        "id": "oMGD_PctANaW",
        "outputId": "d2138f5a-e6e8-413b-9046-8b85f32b16d4"
      },
      "execution_count": null,
      "outputs": [
        {
          "output_type": "stream",
          "name": "stdout",
          "text": [
            "3 4 5 6 7 1 2 "
          ]
        }
      ]
    },
    {
      "cell_type": "markdown",
      "source": [
        "### m4_hard 看不懂\n",
        "https://www.geeksforgeeks.org/block-swap-algorithm-for-array-rotation/"
      ],
      "metadata": {
        "id": "pITQVEQi9YHw"
      }
    },
    {
      "cell_type": "code",
      "source": [
        "# 时间复杂度： O(n)\n",
        "\n",
        "# 辅助空间：O(1)\n",
        "'''\n",
        " * This function swaps d elements starting at\n",
        " * index fi with d elements starting at index si\n",
        " '''\n",
        "def swap(arr, fi, si, d):\n",
        "    for i in range(d):\n",
        "        temp = arr[fi + i];\n",
        "        arr[fi + i] = arr[si + i];\n",
        "        arr[si + i] = temp;\n",
        "        \n",
        "def leftRotate(arr, d, n):\n",
        "    if(d == 0 or d == n):\n",
        "        return;\n",
        "    i = d\n",
        "    j = n - d\n",
        "    while (i != j):\n",
        "         \n",
        "        if(i < j): # A is shorter\n",
        "            swap(arr, d - i, d + j - i, i)\n",
        "            j -= i\n",
        "         \n",
        "        else: # B is shorter\n",
        "            swap(arr, d - i, d, j)\n",
        "            i -= j\n",
        "     \n",
        "    swap(arr, d - i, d, i)\n",
        "''' UTILITY FUNCTIONS '''\n",
        "''' function to print an array '''\n",
        "def printArray(arr, size):\n",
        "    for i in range(size):\n",
        "        print(arr[i], end = \" \");\n",
        "    print();\n",
        "\n",
        "\n",
        "arr = [1, 2, 3, 4, 5, 6, 7];\n",
        "leftRotate(arr, 2, 7);\n",
        "printArray(arr, 7);\n"
      ],
      "metadata": {
        "id": "OxsjyyHa9X8L",
        "outputId": "cb23e5eb-7504-4f34-da89-e3ab663d70ae",
        "colab": {
          "base_uri": "https://localhost:8080/"
        }
      },
      "execution_count": null,
      "outputs": [
        {
          "output_type": "stream",
          "name": "stdout",
          "text": [
            "3 4 5 6 7 1 2 \n"
          ]
        }
      ]
    },
    {
      "cell_type": "markdown",
      "source": [
        "##Q2 重新排列一个数组\n",
        "**(注意交换的先后顺序)**\n",
        "给定一个长度为 N 的元素数组，范围从 0 到 N – 1。数组中可能不存在所有元素。如果元素不存在，则数组中将存在 -1。重新排列数组，使 A[i] = i，如果 i 不存在，则在该位置显示 -1。"
      ],
      "metadata": {
        "id": "at1_NNsAyFG9"
      }
    },
    {
      "cell_type": "code",
      "source": [
        "# 时间复杂度： O(n*n)\n",
        "\n",
        "# 辅助空间：O(n)\n",
        "import numpy as np\n",
        "\n",
        "def print_arr(arr):\n",
        "    size=len(arr)\n",
        "    for i in range(size):\n",
        "        print(int(arr[i]),end=\" \")\n",
        "    print()\n",
        "arr=[-1,-1,6,1,9,3,2,-1,4,-1]\n",
        "n=len(arr)\n",
        "brr = np.zeros(n)\n",
        "print_arr(arr)\n",
        "def a(arr):\n",
        "    n=len(arr)\n",
        "    for i in range(n):\n",
        "        for j in range(n):\n",
        "            if(arr[j]==i):\n",
        "                brr[i]=arr[j]\n",
        "                break\n",
        "            else:\n",
        "                brr[i]=-1\n",
        "\n",
        "a(arr)\n",
        "print_arr(brr)"
      ],
      "metadata": {
        "id": "k_ue7ks6x-T7",
        "outputId": "7644528b-5064-49ed-f8ea-cf4a3bca9c14",
        "colab": {
          "base_uri": "https://localhost:8080/"
        }
      },
      "execution_count": null,
      "outputs": [
        {
          "output_type": "stream",
          "name": "stdout",
          "text": [
            "-1 -1 6 1 9 3 2 -1 4 -1 \n",
            "-1 1 2 3 4 -1 6 -1 -1 9 \n"
          ]
        }
      ]
    },
    {
      "cell_type": "markdown",
      "source": [
        "方法2（朴素方法）：\n",
        "\n",
        "将数字从 0 导航到 n-1\n",
        "\n",
        "现在浏览数组。\n",
        "\n",
        "如果 (i==a[j]) ，则将 i 位置的元素替换为 a[j] 位置。\n",
        "\n",
        "如果有任何元素使用 -1 代替数字，那么它将被自动替换。\n",
        "\n",
        "现在，遍历数组并检查 if (a[i]!=i) ，如果为真，则将 a[i] 替换为 -1\n"
      ],
      "metadata": {
        "id": "zF2cBbyq0u_k"
      }
    },
    {
      "cell_type": "code",
      "source": [
        "# 时间复杂度： O(n*n)\n",
        "def fixArray(arr,n):\n",
        "  for i in range(n):\n",
        "    for j in range(n):\n",
        "      if(arr[j]==i):\n",
        "        temp=arr[i]\n",
        "        arr[i]=arr[j]\n",
        "        arr[j]=temp\n",
        "        # a[i],a[j]=a[j],a[i]\n",
        "  for i in range(n):\n",
        "    if(arr[i]!=i):\n",
        "      arr[i]=-1\n",
        "def print_arr(arr):\n",
        "    size=len(arr)\n",
        "    for i in range(size):\n",
        "        print(int(arr[i]),end=\" \")\n",
        "    print()\n",
        "arr=[-1,-1,6,1,9,3,2,-1,4,-1]\n",
        "n=len(arr)\n",
        "fixArray(arr,n)\n",
        "print_arr(arr)"
      ],
      "metadata": {
        "id": "7jWplWaJ1DOU",
        "outputId": "53ab3f5c-ff2f-4494-e602-231abbaa3846",
        "colab": {
          "base_uri": "https://localhost:8080/"
        }
      },
      "execution_count": null,
      "outputs": [
        {
          "output_type": "stream",
          "name": "stdout",
          "text": [
            "-1 1 2 3 4 -1 6 -1 -1 9 \n"
          ]
        }
      ]
    },
    {
      "cell_type": "markdown",
      "source": [
        "浏览阵列。 \n",
        "2. 检查a[i] = -1，如果是则忽略它。 \n",
        "3. 如果 a[i] != -1，检查元素 a[i] 是否在正确的位置 (i=A[i])。如果是，则忽略它。 \n",
        "4. 如果 a[i] != -1 且元素 a[i] 不在其正确位置（i!=A[i]），则将其放置到正确位置，但有两个条件：  \n",
        "\n",
        "要么A[i] 是 vacate，意味着A[i] = -1，然后放A[i] = i。\n",
        "OR A[i] 不是 vacate，表示A[i] = x，然后int y=x put A[i] = i。现在，我们需要将y放置到正确的位置，所以从第 3 步开始重复。"
      ],
      "metadata": {
        "id": "Y987_Xt63m8i"
      }
    },
    {
      "cell_type": "code",
      "source": [
        "def fix(arr,n):\n",
        "  for i in range(n):\n",
        "    if(arr[i]!=-1 and arr[i]!=i):\n",
        "      x=arr[i]\n",
        "      # print(id(x))\n",
        "      # print(id(arr[i]))\n",
        "      while(arr[x]!=-1 and arr[x]!=x):\n",
        "                # store the value from\n",
        "                # desired place\n",
        "                y = arr[x]\n",
        " \n",
        "                # place the x to its correct\n",
        "                # position\n",
        "                arr[x] = x\n",
        " \n",
        "                # now y will become x, now\n",
        "                # search the place for x\n",
        "                x = y\n",
        "       \n",
        "        # 如果使用下面的方法永远也跳不出while(...arr[x]!=x)\n",
        "        # print(x, arr[x])\n",
        "        # x,arr[x]=arr[x],x\n",
        "        # print(x,arr[x])\n",
        "      arr[x]=x\n",
        "      if(arr[i]!=i):\n",
        "         arr[i]=-1\n",
        "def print_arr(arr):\n",
        "    size=len(arr)\n",
        "    for i in range(size):\n",
        "        print(int(arr[i]),end=\" \")\n",
        "    print()\n",
        "arr=[-1,-1,6,1,9,3,2,-1,4,-1]\n",
        "n=len(arr)\n",
        "fix(arr,n)\n",
        "print_arr(arr)\n",
        "# print(\"iuadshuifhaoui\")\n",
        "a=2\n",
        "b=3\n",
        "a,b=b,a\n",
        "print(a,b)"
      ],
      "metadata": {
        "id": "oPak3a7R3nH7",
        "outputId": "fdd10c4f-379d-4895-de24-1660ca59f0e6",
        "colab": {
          "base_uri": "https://localhost:8080/"
        }
      },
      "execution_count": null,
      "outputs": [
        {
          "output_type": "stream",
          "name": "stdout",
          "text": [
            "-1 1 2 3 4 -1 6 -1 -1 9 \n",
            "3 2\n"
          ]
        }
      ]
    },
    {
      "cell_type": "markdown",
      "source": [
        "另一种方法（使用Set）： \n",
        "1）将数组中存在的所有数字存储到一个Set中 \n",
        "2）遍历数组的长度，如果对应的位置元素存在于Set中，则设置A[i] = i，否则 A[i] = -1"
      ],
      "metadata": {
        "id": "45CPyvIuJVnj"
      }
    },
    {
      "cell_type": "code",
      "source": [
        "def fix_set(arr):\n",
        "    n=len(arr)\n",
        "    s=set()\n",
        "    for i in range(n):\n",
        "        s.add(arr[i])\n",
        "    for i in range(n):\n",
        "        if i in s:\n",
        "            arr[i]=i\n",
        "        else:\n",
        "            arr[i]=-1\n",
        "def printarray(arr):\n",
        "    n=len(arr)\n",
        "    for i in range(n):\n",
        "        print(arr[i],end=\" \")\n",
        "arr=[-1,-1,6,1,9,3,2,-1,4,-1]\n",
        "fix_set(arr)\n",
        "printarray(arr)\n",
        "print()\n",
        "\n"
      ],
      "metadata": {
        "id": "YmunEkfnJSqP"
      },
      "execution_count": null,
      "outputs": []
    },
    {
      "cell_type": "markdown",
      "source": [
        "另一种方法（交换数组中的元素）： \n",
        "1）遍历数组中的元素 \n",
        "2）如果 arr[i] >= 0 && arr[i] != i，将 arr[i] 放在 i 处（交换 arr[i] 与arr[arr[i]])\n",
        "\n"
      ],
      "metadata": {
        "id": "w_hms8M2Jua_"
      }
    },
    {
      "cell_type": "code",
      "source": [
        "def fix_while(arr):\n",
        "    n=len(arr)\n",
        "    i=0\n",
        "    while(i<n):\n",
        "        if(arr[i]>=0 and arr[i]!=i):\n",
        "            # print(arr[i])\n",
        "            # arr[i],arr[arr[i]]=arr[arr[i]],arr[i]\n",
        "            # print(arr[i])\n",
        "            # print(arr[arr[i]])\n",
        "            arr[arr[i]],arr[i]=arr[i],arr[arr[i]]\n",
        "            print(arr[i])\n",
        "            print(arr[arr[i]])\n",
        "            print(arr)\n",
        "            # (arr[arr[i]],\n",
        "            #  arr[i]) = (arr[i],\n",
        "            #             arr[arr[i]])\n",
        "        else:\n",
        "            i=i+1\n",
        "arr=[-1,-1,6,1,9,3,2,-1,4,-1]\n",
        "fix_while(arr)\n",
        "printarray(arr)"
      ],
      "metadata": {
        "id": "gvFu3H16JU6u"
      },
      "execution_count": null,
      "outputs": []
    },
    {
      "cell_type": "markdown",
      "source": [
        "##Q3数据反转\n",
        "\n",
        "Input  : arr[] = {1, 2, 3}\n",
        "Output : arr[] = {3, 2, 1}"
      ],
      "metadata": {
        "id": "FI23kFlEK8Nm"
      }
    },
    {
      "cell_type": "code",
      "source": [
        "# 时间复杂度： O(n)\n",
        "def reverse_array(arr):\n",
        "  n=len(arr)\n",
        "  r=0\n",
        "  l=n-1\n",
        "  while(r<l):\n",
        "    temp=arr[r]\n",
        "    arr[r]=arr[l]\n",
        "    arr[l]=temp\n",
        "    r=r+1\n",
        "    l=l-1\n",
        "def print_arr(arr):\n",
        "  n=len(arr)\n",
        "  for i in range(n):\n",
        "    print(arr[i],end=\" \")\n",
        "arr=[4,5,1,2]\n",
        "reverse_array(arr)\n",
        "print_arr(arr)\n"
      ],
      "metadata": {
        "colab": {
          "base_uri": "https://localhost:8080/"
        },
        "id": "rAdWbawzLEcB",
        "outputId": "3ecb2c42-cc9d-4987-800a-dcce1b4b974d"
      },
      "execution_count": null,
      "outputs": [
        {
          "output_type": "stream",
          "name": "stdout",
          "text": [
            "2 1 5 4 "
          ]
        }
      ]
    },
    {
      "cell_type": "code",
      "source": [
        "# 递归\n",
        "# 时间复杂度： O(n)\n",
        "def recursiveList(arr,start,end):\n",
        "  if start>=end:\n",
        "    return\n",
        "  temp=arr[start]\n",
        "  arr[start]=arr[end]\n",
        "  arr[end]=temp\n",
        "  recursiveList(arr,start+1,end-1)\n",
        "def print_arr(arr):\n",
        "  n=len(arr)\n",
        "  for i in range(n):\n",
        "    print(arr[i],end=\" \")\n",
        "arr=[4,5,1,2]\n",
        "recursiveList(arr,0,3)\n",
        "print_arr(arr)  "
      ],
      "metadata": {
        "colab": {
          "base_uri": "https://localhost:8080/"
        },
        "id": "59Y6SRQBNmOl",
        "outputId": "c41c68f6-8059-4c31-d186-030de38c7424"
      },
      "execution_count": null,
      "outputs": [
        {
          "output_type": "stream",
          "name": "stdout",
          "text": [
            "2 1 5 4 "
          ]
        }
      ]
    },
    {
      "cell_type": "code",
      "source": [
        "# 使用 Python 列表切片\n",
        "def reverseList(A):\n",
        "  print( A[::-1])\n",
        "     \n",
        "# Driver function to test above function\n",
        "A = [1, 2, 3, 4, 5, 6]\n",
        "print(A)\n",
        "print(\"Reversed list is\")\n",
        "reverseList(A) "
      ],
      "metadata": {
        "colab": {
          "base_uri": "https://localhost:8080/"
        },
        "id": "YTqp9dNDRFGX",
        "outputId": "a93acc0d-bf4b-49ee-90dd-c50c61eed6e4"
      },
      "execution_count": null,
      "outputs": [
        {
          "output_type": "stream",
          "name": "stdout",
          "text": [
            "[1, 2, 3, 4, 5, 6]\n",
            "Reversed list is\n",
            "[6, 5, 4, 3, 2, 1]\n"
          ]
        }
      ]
    },
    {
      "cell_type": "markdown",
      "source": [
        "##Q4 重排数组\n",
        "Input : arr[] = {1, 2, 3, 4, 5, 6, 7}\n",
        "Output : 4 5 3 6 2 7 1\n",
        "\n",
        "我们的任务是编写一个程序来重新排列数组，使得偶数位置的元素大于它之前的所有元素，奇数位置的元素小于它之前的所有元素\n",
        "\n",
        "具体:\n",
        "\n",
        "用一个新数组先将数组排序,然后**从后向前遍**历\n",
        "如果甚至**偶数索引(这里的偶数索引与元素是从零开始有区别)**，那么我们将给它最大值，否则给它最小值。\n",
        "\n",
        "p = 0 和 q = 结束；\n",
        "\n",
        "p 将继续，q 将减小。"
      ],
      "metadata": {
        "id": "SQ1X7U3KNm4n"
      }
    },
    {
      "cell_type": "code",
      "source": [
        "def test(arr):\n",
        "  n=len(arr)\n",
        "  b=[0]*n\n",
        "  print(b)\n",
        "  for i in range(n):\n",
        "    b[i]=arr[i]\n",
        "  b.sort()\n",
        "\n",
        "  p=0\n",
        "  q=n-1\n",
        "  for i in range(n-1,-1,-1):\n",
        "    if(i%2!=0):\n",
        "      arr[i]=b[q]\n",
        "      q=q-1\n",
        "    else:\n",
        "      arr[i]=b[p]\n",
        "      p=p+1\n",
        "def print_arr(arr):\n",
        "  n=len(arr)\n",
        "  for i in range(n):\n",
        "    print(arr[i],end=\" \")\n",
        "arr = [ 1, 2, 3, 4, 5, 6, 7 ]\n",
        "test(arr)\n",
        "print_arr(arr)"
      ],
      "metadata": {
        "colab": {
          "base_uri": "https://localhost:8080/"
        },
        "id": "Z6ltAP1xYsm_",
        "outputId": "ca4472b9-875d-42f0-9688-b792b82cb720"
      },
      "execution_count": null,
      "outputs": [
        {
          "output_type": "stream",
          "name": "stdout",
          "text": [
            "[0, 0, 0, 0, 0, 0, 0]\n",
            "4 5 3 6 2 7 1 "
          ]
        }
      ]
    },
    {
      "cell_type": "markdown",
      "source": [
        "# **链表**\n",
        "相对于数组的优势\n",
        "\n",
        "1)动态大小 \n",
        "2)易于插入/删除\n",
        "\n",
        "缺点\n",
        "\n",
        "1)不允许随机访问。我们必须从第一个节点（头节点)2)列表的每个元素都需要额外的指针内存空间。 \n",
        "3)对缓存不友好"
      ],
      "metadata": {
        "id": "ccKyoZY4F1sH"
      }
    },
    {
      "cell_type": "code",
      "source": [
        "# A simple Python program to introduce a linked list\n",
        "\n",
        "# Node class\n",
        "class Node:\n",
        "\n",
        "\t# Function to initialise the node object\n",
        "\tdef __init__(self, data):\n",
        "\t\tself.data = data # Assign data\n",
        "\t\tself.next = None # Initialize next as null\n",
        "\n",
        "\n",
        "class LinkedList():\n",
        "  def __init__(self):\n",
        "    self.head=None\n",
        "  def printList(self):\n",
        "    temp=self.head\n",
        "    while(temp):\n",
        "      print(temp.data)\n",
        "      temp=temp.next\n",
        "\n",
        "\n",
        "llist = LinkedList()\n",
        "\n",
        "llist.head = Node(1)\n",
        "second = Node(2)\n",
        "third = Node(3)\n",
        "llist.head.next = second;\n",
        "second.next = third;\n",
        "llist.printList()\n",
        "# Code execution starts here\n",
        "\n",
        "\t# Start with the empty list\n",
        "\n",
        "#  '''\n",
        "# \tThree nodes have been created.\n",
        "# \tWe have references to these three blocks as head,\n",
        "# \tsecond and third\n",
        "\n",
        "# \tllist.head\t second\t\t\t third\n",
        "# \t\t|\t\t\t |\t\t\t\t |\n",
        "# \t\t|\t\t\t |\t\t\t\t |\n",
        "# \t+----+------+\t +----+------+\t +----+------+\n",
        "# \t| 1 | None  | 2 |None |\t | 3 | None |\n",
        "# \t+----+------+\t +----+------+\t +----+------+\n",
        "# \t'''\n",
        "\n",
        "# \t# llist.head.next = second; # Link first node with second\n",
        "\n",
        "# \t'''\n",
        "# \tNow next of first Node refers to second. So they\n",
        "# \tboth are linked.\n",
        "\n",
        "# \tllist.head\t second\t\t\t third\n",
        "# \t\t|\t\t\t |\t\t\t\t |\n",
        "# \t\t|\t\t\t |\t\t\t\t |\n",
        "# \t+----+------+\t +----+------+\t +----+------+\n",
        "# \t| 1 | o-------->| 2 | null|\t | 3 | null |\n",
        "# \t+----+------+\t +----+------+\t +----+------+\n",
        "# \t'''\n",
        "\n",
        "# \t# second.next = third; # Link second node with the third node\n",
        "\n",
        "# \t'''\n",
        "# \tNow next of second Node refers to third. So all three\n",
        "# \tnodes are linked.\n",
        "\n",
        "# \tllist.head\t second\t\t\t third\n",
        "# \t\t|\t\t\t |\t\t\t\t |\n",
        "# \t\t|\t\t\t |\t\t\t\t |\n",
        "# \t+----+------+\t +----+------+\t +----+------+\n",
        "# \t| 1 | o-------->| 2 | o-------->| 3 | null |\n",
        "# \t+----+------+\t +----+------+\t +----+------+\n",
        "# \t'''"
      ],
      "metadata": {
        "id": "H81FXsVsF0hA",
        "outputId": "033b5adb-474a-442f-c073-4e4a778ddeda",
        "colab": {
          "base_uri": "https://localhost:8080/"
        }
      },
      "execution_count": 10,
      "outputs": [
        {
          "output_type": "stream",
          "name": "stdout",
          "text": [
            "1\n",
            "2\n",
            "3\n"
          ]
        }
      ]
    },
    {
      "cell_type": "markdown",
      "source": [
        "## 添加一个节点\n",
        "1)在链表的前面\n",
        "\n",
        "2)在给定节点之后。\n",
        " \n",
        "3)在链表的末尾。"
      ],
      "metadata": {
        "id": "yJY7GV0aOURy"
      }
    },
    {
      "cell_type": "code",
      "source": [
        "# Node class\n",
        "class Node:\n",
        "\n",
        "\t# Function to initialise the node object\n",
        "\tdef __init__(self, data):\n",
        "\t\tself.data = data # Assign data\n",
        "\t\tself.next = None # Initialize next as null\n",
        "\n",
        "\n",
        "class LinkedList():\n",
        "  def __init__(self):\n",
        "    self.head=None\n",
        "\n",
        "\n",
        "  # 打印链表\n",
        "  def printList(self):\n",
        "    temp=self.head\n",
        "    while(temp):\n",
        "      print(temp.data)\n",
        "      temp=temp.next\n",
        "\n",
        "\n",
        "  # 前面添加节点的 3 个步骤\n",
        "  # 1 弄一个新节点,和节点插入数据 2,把新节点作为头节点 3.将头移动到新节点上\n",
        "  def push(self,new_data):\n",
        "    new_node=Node(new_data)\n",
        "    new_node.next=self.head\n",
        "    self.head=new_node\n",
        "\n",
        "\n",
        "  #在给定节点之后添加一个节点：（4个步骤过程）,我们得到一个指向节点的指针，新节点插入到给定节点之后 \n",
        "  # 1.检查给定的prev_node是否存在 2.弄一个新节点,和节点插入数据 \n",
        "  # 3.使新节点的next成为prev_node的next(想一想为啥) 4.将 prev_node 的 next 设置为 new_node\n",
        "  def insertafter(self,pre_node,new_data):\n",
        "    if pre_node==None:\n",
        "      return\n",
        "    new_node=Node(new_data)\n",
        "    new_node.next=pre_node.next\n",
        "    pre_node.next=new_node\n",
        "\n",
        "\n",
        "\n",
        "  # 在末尾添加一个节点由于链接列表通常由其头部表示，因此我们必须遍历列表直到最后，然后将倒数第二个节点更改为新节点。\n",
        "  # 4个步骤1.弄一个新节点,和节点插入数据2.看链表是否为空,若空就直接在头上添加新元素\n",
        "  # 3链表不为空(想一想如何做到),遍历到最后一个节点4.添加元素\n",
        "  def append(self,new_data):\n",
        "    new_node=Node(new_data)\n",
        "    if self.head is None:\n",
        "      self.head=new_node\n",
        "      return \n",
        "    last=self.head\n",
        "    while(last.next):\n",
        "      last=last.next\n",
        "    last.next=new_node\n",
        "\n",
        "if __name__=='__main__':\n",
        "  llist = LinkedList()\n",
        "  llist.append(6)\n",
        "  llist.push(7)\n",
        "  llist.push(1)\n",
        "  llist.append(4)\n",
        "  llist.insertafter(llist.head,8)\n",
        "  llist.printList()\n",
        "\n",
        "\n"
      ],
      "metadata": {
        "id": "l9SXMOUWOi1j",
        "outputId": "73aca8ba-61e8-4c68-ede9-b0b79bc6023d",
        "colab": {
          "base_uri": "https://localhost:8080/"
        }
      },
      "execution_count": 12,
      "outputs": [
        {
          "output_type": "stream",
          "name": "stdout",
          "text": [
            "1\n",
            "8\n",
            "7\n",
            "6\n",
            "4\n"
          ]
        }
      ]
    }
  ]
}