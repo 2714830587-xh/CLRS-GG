{
  "nbformat": 4,
  "nbformat_minor": 0,
  "metadata": {
    "colab": {
      "name": "算法与数据结构.ipynb",
      "provenance": [],
      "authorship_tag": "ABX9TyNYQcaE46lBqP8um/iRtuIu",
      "include_colab_link": true
    },
    "kernelspec": {
      "name": "python3",
      "display_name": "Python 3"
    },
    "language_info": {
      "name": "python"
    }
  },
  "cells": [
    {
      "cell_type": "markdown",
      "metadata": {
        "id": "view-in-github",
        "colab_type": "text"
      },
      "source": [
        "<a href=\"https://colab.research.google.com/github/2714830587-xh/CLRS-GG/blob/master/%E7%AE%97%E6%B3%95%E4%B8%8E%E6%95%B0%E6%8D%AE%E7%BB%93%E6%9E%84.ipynb\" target=\"_parent\"><img src=\"https://colab.research.google.com/assets/colab-badge.svg\" alt=\"Open In Colab\"/></a>"
      ]
    },
    {
      "cell_type": "markdown",
      "source": [
        "# **数组**\n",
        "阵列旋转"
      ],
      "metadata": {
        "id": "79R8kHWS8vJF"
      }
    },
    {
      "cell_type": "code",
      "execution_count": 4,
      "metadata": {
        "colab": {
          "base_uri": "https://localhost:8080/"
        },
        "id": "TgjZm8rb6WbD",
        "outputId": "2b8468a3-26f9-4002-ca16-5e4f12e85f64"
      },
      "outputs": [
        {
          "output_type": "stream",
          "name": "stdout",
          "text": [
            "3 4 5 6 7 1 2 "
          ]
        }
      ],
      "source": [
        "# 编写一个函数 rotate(ar[], d, n) 将大小为 n 的 arr[] 旋转 d 个元素。\n",
        "# method1:申请临时空间\n",
        "# 时间复杂度： O(n) \n",
        "# 辅助空间： O(d)\n",
        "import numpy as np\n",
        "def rotate_print(arr,size):\n",
        "    for i in range(size):\n",
        "        print(arr[i],end=\" \")\n",
        "def rotate_memory(arr,d,n):\n",
        "    brr=np.zeros(d)\n",
        "    for i in range(d):\n",
        "        brr[i]=arr[i];\n",
        "    for i in range(n):\n",
        "        if(i<n-2):\n",
        "            arr[i]=arr[i+2]\n",
        "            j=0\n",
        "        else:\n",
        "            arr[i]=int(brr[j])\n",
        "            j=j+1\n",
        "arr=[1,2,3,4,5,6,7]\n",
        "n=len(arr)\n",
        "d=2\n",
        "rotate_memory(arr,d,n)\n",
        "rotate_print(arr,7)\n",
        "\n"
      ]
    },
    {
      "cell_type": "code",
      "source": [
        "#方法二（一一旋转） \n",
        "# 时间复杂度：O(n * d) \n",
        "# 辅助空间：O(1)\n",
        "def leftrotate(arr,d,n):\n",
        "    for i in range(d):\n",
        "        leftrotateone(arr,n)\n",
        "def leftrotateone(arr,n):\n",
        "    temp=arr[0]\n",
        "    for i in  range(n-1):\n",
        "        arr[i]=arr[i+1]\n",
        "    arr[n-1]=temp\n",
        "def rotate_print(arr,size):\n",
        "    for i in range(size):\n",
        "        print(arr[i],end=\" \")\n",
        "arr=[1,2,3,4,5,6,7]\n",
        "n=len(arr)\n",
        "leftrotate(arr,d=2,n=len(arr))\n",
        "rotate_print(arr,n)"
      ],
      "metadata": {
        "colab": {
          "base_uri": "https://localhost:8080/"
        },
        "id": "5GiKHci4olBi",
        "outputId": "03633528-419f-4865-83c5-3d45601c7657"
      },
      "execution_count": 3,
      "outputs": [
        {
          "output_type": "stream",
          "name": "stdout",
          "text": [
            "3 4 5 6 7 1 2 "
          ]
        }
      ]
    },
    {
      "cell_type": "markdown",
      "source": [
        "方法 3（杂耍算法） \n",
        "这是方法2的扩展。不是一个一个移动，而是将数组分成不同的集合 \n",
        "其中集合数等于 n 和 d 的 GCD，并在集合内移动元素。 \n",
        "如果 GCD 为 1，如上面的示例数组（n = 7 和 d =2），则元素将仅在一组内移动，我们只需从 temp = arr[0] 开始并继续移动 arr[I+d]到 arr[I] 并最终将 temp 存储在正确的位置。\n",
        "这是 n = 12 和 d = 3 的示例。\n",
        "https://www.geeksforgeeks.org/array-rotation/?ref=lbp"
      ],
      "metadata": {
        "id": "RkO4JQkmKcuX"
      }
    },
    {
      "cell_type": "code",
      "source": [
        "# 时间复杂度： O(n) \n",
        "# 辅助空间： O(1)\n",
        "def gcd(a,b):\n",
        "    if(b==0):\n",
        "        return a\n",
        "    else:\n",
        "        return gcd(b,a%b)\n",
        "print(gcd(15,10))\n",
        "\n",
        "def leftrotate(arr,d,n):\n",
        "    d=d%n\n",
        "    b=gcd(n,d)\n",
        "    for i in range(b):\n",
        "        temp=arr[i]\n",
        "        j=i\n",
        "        while 1:\n",
        "            k=j+d\n",
        "            if k>=n:\n",
        "                k=k-n\n",
        "            if k==i:\n",
        "                break\n",
        "            arr[j]=arr[k]\n",
        "            j=k\n",
        "        arr[j]=temp\n",
        "def rotate_print(arr,size):\n",
        "    for i in range(size):\n",
        "        print(arr[i],end=\" \")\n",
        "arr=[1,2,3,4,5,6,7]\n",
        "n=len(arr)\n",
        "d=2\n",
        "leftrotate(arr,d,n)\n",
        "rotate_print(arr,7)"
      ],
      "metadata": {
        "colab": {
          "base_uri": "https://localhost:8080/"
        },
        "id": "CFNkbqtT8BF0",
        "outputId": "7f0113d4-0636-4a50-b5df-2316b72bef18"
      },
      "execution_count": 5,
      "outputs": [
        {
          "output_type": "stream",
          "name": "stdout",
          "text": [
            "5\n",
            "3 4 5 6 7 1 2 "
          ]
        }
      ]
    },
    {
      "cell_type": "code",
      "source": [
        ""
      ],
      "metadata": {
        "colab": {
          "base_uri": "https://localhost:8080/"
        },
        "id": "oMGD_PctANaW",
        "outputId": "7d0f5eb7-fbca-4ea0-f93b-2f40aa6aae0a"
      },
      "execution_count": 4,
      "outputs": [
        {
          "output_type": "stream",
          "name": "stdout",
          "text": [
            "GeeksforGeeks, is the computer science portal for geeks   !\n",
            "It is    40 degrees outside !\n",
            "GeeksforGeeks was founded in             2009!\n",
            " GeeksforGeeks   was founded in 2009!\n",
            "*******Geeks********\n"
          ]
        }
      ]
    }
  ]
}