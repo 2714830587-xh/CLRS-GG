{
  "nbformat": 4,
  "nbformat_minor": 0,
  "metadata": {
    "colab": {
      "name": "GPU.ipynb",
      "provenance": [],
      "authorship_tag": "ABX9TyP3wEvDfPjttwBnkQO4OMsj",
      "include_colab_link": true
    },
    "kernelspec": {
      "name": "python3",
      "display_name": "Python 3"
    },
    "language_info": {
      "name": "python"
    }
  },
  "cells": [
    {
      "cell_type": "markdown",
      "metadata": {
        "id": "view-in-github",
        "colab_type": "text"
      },
      "source": [
        "<a href=\"https://colab.research.google.com/github/2714830587-xh/CLRS-GG/blob/master/GPU.ipynb\" target=\"_parent\"><img src=\"https://colab.research.google.com/assets/colab-badge.svg\" alt=\"Open In Colab\"/></a>"
      ]
    },
    {
      "cell_type": "markdown",
      "metadata": {
        "id": "IPt3Yb1lpErb"
      },
      "source": [
        " 查看硬件资源情况"
      ]
    },
    {
      "cell_type": "code",
      "metadata": {
        "colab": {
          "base_uri": "https://localhost:8080/"
        },
        "id": "BMHGh7vepCpI",
        "outputId": "61bebc51-2003-4135-bbb8-15f989421e2a"
      },
      "source": [
        "!nvidia-smi"
      ],
      "execution_count": 12,
      "outputs": [
        {
          "output_type": "stream",
          "name": "stdout",
          "text": [
            "Mon Nov 22 03:15:45 2021       \n",
            "+-----------------------------------------------------------------------------+\n",
            "| NVIDIA-SMI 495.44       Driver Version: 460.32.03    CUDA Version: 11.2     |\n",
            "|-------------------------------+----------------------+----------------------+\n",
            "| GPU  Name        Persistence-M| Bus-Id        Disp.A | Volatile Uncorr. ECC |\n",
            "| Fan  Temp  Perf  Pwr:Usage/Cap|         Memory-Usage | GPU-Util  Compute M. |\n",
            "|                               |                      |               MIG M. |\n",
            "|===============================+======================+======================|\n",
            "|   0  Tesla K80           Off  | 00000000:00:04.0 Off |                    0 |\n",
            "| N/A   54C    P0    58W / 149W |    543MiB / 11441MiB |      0%      Default |\n",
            "|                               |                      |                  N/A |\n",
            "+-------------------------------+----------------------+----------------------+\n",
            "                                                                               \n",
            "+-----------------------------------------------------------------------------+\n",
            "| Processes:                                                                  |\n",
            "|  GPU   GI   CI        PID   Type   Process name                  GPU Memory |\n",
            "|        ID   ID                                                   Usage      |\n",
            "|=============================================================================|\n",
            "|  No running processes found                                                 |\n",
            "+-----------------------------------------------------------------------------+\n"
          ]
        }
      ]
    },
    {
      "cell_type": "code",
      "metadata": {
        "colab": {
          "base_uri": "https://localhost:8080/"
        },
        "id": "q78Egz72jpmK",
        "outputId": "eee5f2a3-156a-4dc5-f918-b93ab40c8e52"
      },
      "source": [
        "import torch\n",
        "import numpy\n",
        "# 由于我们并没有指定张量中数字的类型，所以默认使用float32类型\n",
        "x=torch.tensor(3.5)\n",
        "print(x)\n",
        "# 我们希望指定数据类型而不使用默认类型，我们的代码\n",
        "x1=torch.FloatTensor([3.5])\n",
        "print(x1)\n",
        "# 看一下数据类型的变化。\n",
        "x.type()\n",
        "x1.type()\n",
        "# 用x.device可进一步确认张量所在的设备\n",
        "x.device\n",
        "y=x*x\n",
        "y.device"
      ],
      "execution_count": 5,
      "outputs": [
        {
          "output_type": "stream",
          "name": "stdout",
          "text": [
            "tensor(3.5000)\n",
            "tensor([3.5000])\n"
          ]
        },
        {
          "output_type": "execute_result",
          "data": {
            "text/plain": [
              "device(type='cpu')"
            ]
          },
          "metadata": {},
          "execution_count": 5
        }
      ]
    },
    {
      "cell_type": "markdown",
      "metadata": {
        "id": "bVSF6I4smA5S"
      },
      "source": [
        "Compare Numpy with Python"
      ]
    },
    {
      "cell_type": "code",
      "metadata": {
        "id": "1f_tABPLl93q"
      },
      "source": [
        "# size of square matrix\n",
        "size = 600\n",
        "\n",
        "a = numpy.random.rand(size, size)\n",
        "b = numpy.random.rand(size, size)"
      ],
      "execution_count": 6,
      "outputs": []
    },
    {
      "cell_type": "code",
      "metadata": {
        "colab": {
          "base_uri": "https://localhost:8080/"
        },
        "id": "qAqowKsil_MD",
        "outputId": "fb8d2bd7-9c01-4a20-90b9-067ab5b069a5"
      },
      "source": [
        "%%timeit\n",
        "\n",
        "x = numpy.dot(a,b)"
      ],
      "execution_count": 7,
      "outputs": [
        {
          "output_type": "stream",
          "name": "stdout",
          "text": [
            "100 loops, best of 5: 13.2 ms per loop\n"
          ]
        }
      ]
    },
    {
      "cell_type": "markdown",
      "metadata": {
        "id": "PDknxekomozk"
      },
      "source": [
        ""
      ]
    },
    {
      "cell_type": "code",
      "metadata": {
        "id": "zrX2rOQZmMgh"
      },
      "source": [
        "# %%timeit\n",
        "\n",
        "# c = numpy.zeros((size,size))\n",
        "\n",
        "# for i in range(size):\n",
        "#   for j in range(size):\n",
        "#     for k in range(size):\n",
        "#       c[i,j] += a[i,k] * b[k,j]"
      ],
      "execution_count": 8,
      "outputs": []
    },
    {
      "cell_type": "markdown",
      "metadata": {
        "id": "dHIzNW_DmXva"
      },
      "source": [
        "Tensors On The GPU"
      ]
    },
    {
      "cell_type": "code",
      "metadata": {
        "id": "tKuG4QTbmdCO"
      },
      "source": [
        "# create cuda tensors from numpy arrays\n",
        "\n",
        "aa = torch.cuda.FloatTensor(a)\n",
        "bb = torch.cuda.FloatTensor(b)"
      ],
      "execution_count": 9,
      "outputs": []
    },
    {
      "cell_type": "code",
      "metadata": {
        "colab": {
          "base_uri": "https://localhost:8080/"
        },
        "id": "MytBEI5Pmeu2",
        "outputId": "e2419911-a939-4de7-f64b-aac4e13f4e10"
      },
      "source": [
        "%%timeit\n",
        "# PyTorch中进行矩阵乘法的函数是matmul()。\n",
        "cc = torch.matmul(aa, bb)"
      ],
      "execution_count": 10,
      "outputs": [
        {
          "output_type": "stream",
          "name": "stdout",
          "text": [
            "The slowest run took 100.35 times longer than the fastest. This could mean that an intermediate result is being cached.\n",
            "10000 loops, best of 5: 268 µs per loop\n"
          ]
        }
      ]
    },
    {
      "cell_type": "markdown",
      "metadata": {
        "id": "04UQwgWXmlcS"
      },
      "source": [
        "Standard CUDA Check And Set Up"
      ]
    },
    {
      "cell_type": "code",
      "metadata": {
        "colab": {
          "base_uri": "https://localhost:8080/"
        },
        "id": "Q546D4Wnmja7",
        "outputId": "6bad0c45-fcdf-42df-84ea-82aeaeb302fb"
      },
      "source": [
        "# check if CUDA is available\n",
        "# if yes, set default tensor type to cuda\n",
        "\n",
        "if torch.cuda.is_available():\n",
        "  torch.set_default_tensor_type(torch.cuda.FloatTensor)\n",
        "  print(\"using cuda:\", torch.cuda.get_device_name(0))\n",
        "  pass\n",
        "\n",
        "device = torch.device(\"cuda\" if torch.cuda.is_available() else \"cpu\")\n",
        "\n",
        "device"
      ],
      "execution_count": 11,
      "outputs": [
        {
          "output_type": "stream",
          "name": "stdout",
          "text": [
            "using cuda: Tesla K80\n"
          ]
        },
        {
          "output_type": "execute_result",
          "data": {
            "text/plain": [
              "device(type='cuda')"
            ]
          },
          "metadata": {},
          "execution_count": 11
        }
      ]
    },
    {
      "cell_type": "code",
      "metadata": {
        "colab": {
          "base_uri": "https://localhost:8080/"
        },
        "id": "l9YKBF-0pUuf",
        "outputId": "d76689be-79ef-401b-f3c2-1effa337fcf8"
      },
      "source": [
        "!bash"
      ],
      "execution_count": 14,
      "outputs": [
        {
          "output_type": "stream",
          "name": "stdout",
          "text": [
            "bash: cannot set terminal process group (174): Inappropriate ioctl for device\n",
            "bash: no job control in this shell\n",
            "\u001b[01;34m/content\u001b[00m# ls\n",
            "\u001b[0m\u001b[01;34msample_data\u001b[0m\n",
            "\u001b[01;34m/content\u001b[00m# pwd\n",
            "/content\n",
            "\u001b[01;34m/content\u001b[00m# cd\n",
            "\u001b[01;34m~\u001b[00m# ls\n",
            "\u001b[01;34m~\u001b[00m# ls\n",
            "\u001b[01;34m~\u001b[00m# exit\n",
            "exit\n"
          ]
        }
      ]
    }
  ]
}