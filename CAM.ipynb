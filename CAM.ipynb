{
  "nbformat": 4,
  "nbformat_minor": 0,
  "metadata": {
    "colab": {
      "name": "CAM.ipynb",
      "provenance": [],
      "toc_visible": true,
      "authorship_tag": "ABX9TyNpVCevC1vr2TOFy4BeAw7e",
      "include_colab_link": true
    },
    "kernelspec": {
      "name": "python3",
      "display_name": "Python 3"
    },
    "language_info": {
      "name": "python"
    }
  },
  "cells": [
    {
      "cell_type": "markdown",
      "metadata": {
        "id": "view-in-github",
        "colab_type": "text"
      },
      "source": [
        "<a href=\"https://colab.research.google.com/github/2714830587-xh/CLRS-GG/blob/master/CAM.ipynb\" target=\"_parent\"><img src=\"https://colab.research.google.com/assets/colab-badge.svg\" alt=\"Open In Colab\"/></a>"
      ]
    },
    {
      "cell_type": "code",
      "execution_count": 3,
      "metadata": {
        "colab": {
          "base_uri": "https://localhost:8080/"
        },
        "id": "bke99jd-Pzuv",
        "outputId": "aba31a5e-4835-45ad-87a1-0cd79b945e38"
      },
      "outputs": [
        {
          "output_type": "stream",
          "name": "stdout",
          "text": [
            "Epoch 1/10\n",
            "165/165 [==============================] - 160s 964ms/step - loss: 2.2324 - accuracy: 0.3407 - val_loss: 2.0671 - val_accuracy: 0.3651\n",
            "Epoch 2/10\n",
            "165/165 [==============================] - 161s 976ms/step - loss: 1.0917 - accuracy: 0.6431 - val_loss: 1.2113 - val_accuracy: 0.6149\n",
            "Epoch 3/10\n",
            "165/165 [==============================] - 160s 969ms/step - loss: 0.7904 - accuracy: 0.7492 - val_loss: 0.8025 - val_accuracy: 0.7106\n",
            "Epoch 4/10\n",
            "165/165 [==============================] - 161s 974ms/step - loss: 0.6305 - accuracy: 0.8009 - val_loss: 0.6496 - val_accuracy: 0.7914\n",
            "Epoch 5/10\n",
            "165/165 [==============================] - 160s 968ms/step - loss: 0.5153 - accuracy: 0.8409 - val_loss: 0.8278 - val_accuracy: 0.7273\n",
            "Epoch 6/10\n",
            "165/165 [==============================] - 160s 969ms/step - loss: 0.4367 - accuracy: 0.8647 - val_loss: 0.8337 - val_accuracy: 0.7189\n",
            "Epoch 7/10\n",
            "165/165 [==============================] - 160s 970ms/step - loss: 0.3833 - accuracy: 0.8826 - val_loss: 0.5373 - val_accuracy: 0.8150\n",
            "Epoch 8/10\n",
            "165/165 [==============================] - 160s 970ms/step - loss: 0.3324 - accuracy: 0.8983 - val_loss: 0.6066 - val_accuracy: 0.7799\n",
            "Epoch 9/10\n",
            "165/165 [==============================] - 160s 971ms/step - loss: 0.3011 - accuracy: 0.9069 - val_loss: 1.1164 - val_accuracy: 0.6544\n",
            "Epoch 10/10\n",
            "165/165 [==============================] - 160s 968ms/step - loss: 0.2865 - accuracy: 0.9130 - val_loss: 0.3163 - val_accuracy: 0.9004\n"
          ]
        },
        {
          "output_type": "execute_result",
          "data": {
            "text/plain": [
              "<keras.callbacks.History at 0x7f6e897bda10>"
            ]
          },
          "metadata": {},
          "execution_count": 3
        }
      ],
      "source": [
        "from keras.datasets import mnist\n",
        "from keras.layers import Conv2D, Dense, GlobalAveragePooling2D\n",
        "from keras.models import Model, Input\n",
        "from tensorflow.keras.utils import to_categorical\n",
        "\n",
        "(x_train, y_train), (x_test, y_test) = mnist.load_data()\n",
        "\n",
        "x_train_resized = x_train.reshape((60000, 28, 28, 1))\n",
        "x_test_resized = x_test.reshape((10000, 28, 28, 1))\n",
        "y_train_hot_encoded = to_categorical(y_train)\n",
        "y_test_hot_encoded = to_categorical(y_test)\n",
        "\n",
        "inputs = Input(shape=(28,28, 1))\n",
        "\n",
        "x = Conv2D(64, (3,3), activation='relu')(inputs)\n",
        "x = Conv2D(64, (3,3), activation='relu', name='final_conv')(x)\n",
        "x = GlobalAveragePooling2D()(x)\n",
        "predictions = Dense(10, activation='softmax')(x)\n",
        "\n",
        "model = Model(inputs=inputs, outputs=predictions)\n",
        "model.compile(optimizer='rmsprop',\n",
        "              loss='categorical_crossentropy',\n",
        "              metrics=['accuracy'])\n",
        "model.fit(x_train_resized, y_train_hot_encoded, epochs=10, batch_size=256, shuffle=True, validation_split=0.3)"
      ]
    },
    {
      "cell_type": "code",
      "source": [
        "import numpy as np\n",
        "import cv2\n",
        "import io\n",
        "import requests\n",
        "from PIL import Image\n",
        "import matplotlib.pyplot as plt\n",
        "# Using Keras implementation from tensorflow\n",
        "from tensorflow.python.keras import applications\n",
        "from tensorflow.python.keras.preprocessing.image import load_img, img_to_array \n",
        "from tensorflow.python.keras import backend as K\n",
        "\n",
        "\n",
        "# Get the layer of the last conv layer\n",
        "fianlconv = model.get_layer('final_conv')\n",
        "# Get the weights matrix of the last layer\n",
        "weight_softmax = model.layers[-1].get_weights()[0]\n",
        "\n",
        "# Function to generate Class Activation Mapping\n",
        "HEIGHT = 28\n",
        "WIDTH = 28\n",
        "\n",
        "def returnCAM(feature_conv, weight_softmax, class_idx):\n",
        "    size_upsample = (WIDTH, HEIGHT)\n",
        "\n",
        "    # Keras default is channels last, hence nc is in last\n",
        "    bz, h, w, nc = feature_conv.shape\n",
        "\n",
        "    output_cam = []\n",
        "    for idx in class_idx:\n",
        "        cam = np.dot(weight_softmax[:, idx], np.transpose(feature_conv.reshape(h*w, nc)))\n",
        "        cam = cam.reshape(h, w)\n",
        "        cam = cam - np.min(cam)\n",
        "        cam_img = cam / np.max(cam)\n",
        "        cam_img = np.uint8(255 * cam_img)\n",
        "\n",
        "        output_cam.append(cv2.resize(cam_img, size_upsample))\n",
        "\n",
        "    return output_cam\n",
        "\n",
        "x = x_test_resized[0,:,:,0]\n",
        "\n",
        "plt.imshow(x)\n",
        "plt.show()\n",
        "\n",
        "classes = {1:'1', 2: '2', 3: '3', 4:'4', 5:'5', 6:'6', 7:'7', 8:'8', 9:'9', 0:'0'}\n",
        "\n",
        "probs_extractor = K.function([model.input], [model.output])\n",
        "features_conv_extractor = K.function([model.input], [fianlconv.output])\n",
        "\n",
        "probs = probs_extractor([np.expand_dims(x, 0).reshape(1,28,28,1)])[0]\n",
        "\n",
        "features_blob = features_conv_extractor([np.expand_dims(x, 0).reshape(1,28,28,1)])[0]\n",
        "\n",
        "features_blobs = []\n",
        "features_blobs.append(features_blob)\n",
        "\n",
        "idx = np.argsort(probs)\n",
        "probs = np.sort(probs)\n",
        "\n",
        "for i in range(-1, -6, -1):\n",
        "    print('{:.3f} -> {}'.format(probs[0, i], classes[idx[0, i]]))\n",
        "\n",
        "\n",
        "CAMs = returnCAM(features_blobs[0], weight_softmax, [idx[0, -1]])\n",
        "\n",
        "heatmap = cv2.applyColorMap(cv2.resize(CAMs[0], (28, 28)), cv2.COLORMAP_JET)\n",
        "\n",
        "result = heatmap[:,:,0] * 0.3 + x * 0.5\n",
        "\n",
        "print(result.shape)\n",
        "\n",
        "plt.imshow(result)\n",
        "plt.show()"
      ],
      "metadata": {
        "colab": {
          "base_uri": "https://localhost:8080/",
          "height": 617
        },
        "id": "-ukFm_yLQRBd",
        "outputId": "ff47e433-f0d8-46e7-b21e-d87e570b3029"
      },
      "execution_count": 4,
      "outputs": [
        {
          "output_type": "display_data",
          "data": {
            "image/png": "[encoded data removed]",
            "text/plain": [
              "<Figure size 432x288 with 1 Axes>"
            ]
          },
          "metadata": {
            "needs_background": "light"
          }
        },
        {
          "output_type": "stream",
          "name": "stdout",
          "text": [
            "0.998 -> 7\n",
            "0.001 -> 2\n",
            "0.000 -> 9\n",
            "0.000 -> 3\n",
            "0.000 -> 5\n",
            "(28, 28)\n"
          ]
        },
        {
          "output_type": "display_data",
          "data": {
            "image/png": "[encoded data removed]",
            "text/plain": [
              "<Figure size 432x288 with 1 Axes>"
            ]
          },
          "metadata": {
            "needs_background": "light"
          }
        }
      ]
    }
  ]
}